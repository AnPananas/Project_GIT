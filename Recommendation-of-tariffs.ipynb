{
 "cells": [
  {
   "cell_type": "markdown",
   "metadata": {},
   "source": [
    "# Рекомендация тарифов"
   ]
  },
  {
   "cell_type": "markdown",
   "metadata": {},
   "source": [
    "В вашем распоряжении данные о поведении клиентов, которые уже перешли на эти тарифы (из проекта курса «Статистический анализ данных»). Нужно построить модель для задачи классификации, которая выберет подходящий тариф. Предобработка данных не понадобится — вы её уже сделали.\n",
    "\n",
    "Постройте модель с максимально большим значением *accuracy*. Чтобы сдать проект успешно, нужно довести долю правильных ответов по крайней мере до 0.75. Проверьте *accuracy* на тестовой выборке самостоятельно."
   ]
  },
  {
   "cell_type": "markdown",
   "metadata": {},
   "source": [
    "# Задача:\n",
    "\n",
    "Постройте модель с максимально большим значением accuracy. Чтобы сдать проект успешно, нужно довести долю правильных ответов по крайней мере до 0.75. Проверьте accuracy на тестовой выборке самостоятельно."
   ]
  },
  {
   "cell_type": "markdown",
   "metadata": {},
   "source": [
    "# Описание данных\n",
    "\n",
    "- Каждый объект в наборе данных — это информация о поведении одного пользователя за месяц. Известно:\n",
    "- сalls — количество звонков,\n",
    "- minutes — суммарная длительность звонков в минутах,\n",
    "- messages — количество sms-сообщений,\n",
    "- mb_used — израсходованный интернет-трафик в Мб,\n",
    "- is_ultra — каким тарифом пользовался в течение месяца («Ультра» — 1, «Смарт» — 0)."
   ]
  },
  {
   "cell_type": "markdown",
   "metadata": {},
   "source": [
    "## Выгрузка данных"
   ]
  },
  {
   "cell_type": "code",
   "execution_count": 1,
   "metadata": {},
   "outputs": [],
   "source": [
    "from sklearn.model_selection import train_test_split\n",
    "import pandas as pd\n",
    "from sklearn.linear_model import LogisticRegression\n",
    "from sklearn.metrics import accuracy_score\n",
    "from sklearn.ensemble import RandomForestClassifier\n",
    "from sklearn.tree import DecisionTreeClassifier\n",
    "from sklearn.dummy import DummyClassifier"
   ]
  },
  {
   "cell_type": "code",
   "execution_count": 2,
   "metadata": {
    "scrolled": true
   },
   "outputs": [],
   "source": [
    "df = pd.read_csv('D:/yandex_practicum/Projects/Learning_with_teacher/users_behavior.csv')"
   ]
  },
  {
   "cell_type": "code",
   "execution_count": 3,
   "metadata": {},
   "outputs": [
    {
     "name": "stdout",
     "output_type": "stream",
     "text": [
      "<class 'pandas.core.frame.DataFrame'>\n",
      "RangeIndex: 3214 entries, 0 to 3213\n",
      "Data columns (total 5 columns):\n",
      " #   Column    Non-Null Count  Dtype  \n",
      "---  ------    --------------  -----  \n",
      " 0   calls     3214 non-null   float64\n",
      " 1   minutes   3214 non-null   float64\n",
      " 2   messages  3214 non-null   float64\n",
      " 3   mb_used   3214 non-null   float64\n",
      " 4   is_ultra  3214 non-null   int64  \n",
      "dtypes: float64(4), int64(1)\n",
      "memory usage: 125.7 KB\n"
     ]
    }
   ],
   "source": [
    "df.info()"
   ]
  },
  {
   "cell_type": "code",
   "execution_count": 4,
   "metadata": {},
   "outputs": [
    {
     "data": {
      "text/html": [
       "<div>\n",
       "<style scoped>\n",
       "    .dataframe tbody tr th:only-of-type {\n",
       "        vertical-align: middle;\n",
       "    }\n",
       "\n",
       "    .dataframe tbody tr th {\n",
       "        vertical-align: top;\n",
       "    }\n",
       "\n",
       "    .dataframe thead th {\n",
       "        text-align: right;\n",
       "    }\n",
       "</style>\n",
       "<table border=\"1\" class=\"dataframe\">\n",
       "  <thead>\n",
       "    <tr style=\"text-align: right;\">\n",
       "      <th></th>\n",
       "      <th>calls</th>\n",
       "      <th>minutes</th>\n",
       "      <th>messages</th>\n",
       "      <th>mb_used</th>\n",
       "      <th>is_ultra</th>\n",
       "    </tr>\n",
       "  </thead>\n",
       "  <tbody>\n",
       "    <tr>\n",
       "      <th>0</th>\n",
       "      <td>40.0</td>\n",
       "      <td>311.90</td>\n",
       "      <td>83.0</td>\n",
       "      <td>19915.42</td>\n",
       "      <td>0</td>\n",
       "    </tr>\n",
       "    <tr>\n",
       "      <th>1</th>\n",
       "      <td>85.0</td>\n",
       "      <td>516.75</td>\n",
       "      <td>56.0</td>\n",
       "      <td>22696.96</td>\n",
       "      <td>0</td>\n",
       "    </tr>\n",
       "    <tr>\n",
       "      <th>2</th>\n",
       "      <td>77.0</td>\n",
       "      <td>467.66</td>\n",
       "      <td>86.0</td>\n",
       "      <td>21060.45</td>\n",
       "      <td>0</td>\n",
       "    </tr>\n",
       "    <tr>\n",
       "      <th>3</th>\n",
       "      <td>106.0</td>\n",
       "      <td>745.53</td>\n",
       "      <td>81.0</td>\n",
       "      <td>8437.39</td>\n",
       "      <td>1</td>\n",
       "    </tr>\n",
       "    <tr>\n",
       "      <th>4</th>\n",
       "      <td>66.0</td>\n",
       "      <td>418.74</td>\n",
       "      <td>1.0</td>\n",
       "      <td>14502.75</td>\n",
       "      <td>0</td>\n",
       "    </tr>\n",
       "  </tbody>\n",
       "</table>\n",
       "</div>"
      ],
      "text/plain": [
       "   calls  minutes  messages   mb_used  is_ultra\n",
       "0   40.0   311.90      83.0  19915.42         0\n",
       "1   85.0   516.75      56.0  22696.96         0\n",
       "2   77.0   467.66      86.0  21060.45         0\n",
       "3  106.0   745.53      81.0   8437.39         1\n",
       "4   66.0   418.74       1.0  14502.75         0"
      ]
     },
     "execution_count": 4,
     "metadata": {},
     "output_type": "execute_result"
    }
   ],
   "source": [
    "df.head()"
   ]
  },
  {
   "cell_type": "markdown",
   "metadata": {},
   "source": [
    "## Разбиение данных на выборки"
   ]
  },
  {
   "cell_type": "code",
   "execution_count": 5,
   "metadata": {},
   "outputs": [],
   "source": [
    "df_train, df_valid_test = train_test_split(df, test_size = 0.4, random_state=12345, stratify=df['is_ultra'])\n",
    "df_valid,df_test = train_test_split(df_valid_test, test_size = 0.5, random_state=12345, stratify=df_valid_test['is_ultra'])\n",
    "\n",
    "# параметры и цели для обучения\n",
    "train_features = df_train.drop(['is_ultra'], axis=1)\n",
    "train_target = df_train['is_ultra']\n",
    "\n",
    "# параметры и цели для проверки модели\n",
    "valid_features = df_valid.drop(['is_ultra'], axis=1)\n",
    "valid_target = df_valid['is_ultra']\n",
    "\n",
    "# параметры и цели для тестовой выборки\n",
    "test_features = df_test.drop(['is_ultra'], axis=1)\n",
    "test_target = df_test['is_ultra']"
   ]
  },
  {
   "cell_type": "code",
   "execution_count": 6,
   "metadata": {},
   "outputs": [
    {
     "name": "stdout",
     "output_type": "stream",
     "text": [
      "(643, 5) (643, 5) (1928, 5)\n"
     ]
    }
   ],
   "source": [
    "print(df_test.shape,df_valid.shape,df_train.shape)"
   ]
  },
  {
   "cell_type": "markdown",
   "metadata": {},
   "source": [
    "## Исследовние модели"
   ]
  },
  {
   "cell_type": "markdown",
   "metadata": {},
   "source": [
    "Главным критерием оценки качества модели для нас является параметр accuracy (показывает отношение правильных ответов модели к общему размеру данных). Для решения задачи классификации (использовать тариф Ultra, или нет) наиболее распространены три модели: Решающее дерево, Случайный лес и Логистическая регрессия. Из этой троицы самое самое низкое качество у решающего дерева, а самое высокое у случайного леса, при этом скорость алгоритма решающего дерева самая высокая, для случайного леса - самая низкая. Поэтому начнем с модели логистической регрессии. Она имеет средний показатель качества и высокую скорость исполнения. Если показатель accuracy нас не удовлетворит переидем к модели случайный лес. \n"
   ]
  },
  {
   "cell_type": "code",
   "execution_count": 7,
   "metadata": {},
   "outputs": [
    {
     "name": "stdout",
     "output_type": "stream",
     "text": [
      "Accuracy = 0.7387247278382582\n"
     ]
    }
   ],
   "source": [
    "# LogisticRegression\n",
    "\n",
    "model_log = LogisticRegression(random_state=12345)\n",
    "model_log.fit(train_features,train_target) # обучение модели на тренировочной выборке\n",
    "prediction = model_log.predict(valid_features)\n",
    "accuracy_logist = accuracy_score(valid_target, prediction)\n",
    "\n",
    "print(f'Accuracy = {accuracy_logist}')\n"
   ]
  },
  {
   "cell_type": "markdown",
   "metadata": {},
   "source": [
    "Значение accuracy для данной модели оказалось слишком мало, попробуем модель Случайный лес"
   ]
  },
  {
   "cell_type": "code",
   "execution_count": 8,
   "metadata": {
    "scrolled": true
   },
   "outputs": [
    {
     "name": "stdout",
     "output_type": "stream",
     "text": [
      "Accuracy = 0.7480559875583204\n",
      "Accuracy = 0.776049766718507\n",
      "Accuracy = 0.776049766718507\n",
      "Accuracy = 0.7480559875583204\n",
      "Accuracy = 0.7713841368584758\n",
      "Accuracy = 0.7791601866251944\n",
      "Accuracy = 0.7433903576982893\n",
      "Accuracy = 0.776049766718507\n",
      "Accuracy = 0.7573872472783826\n",
      "Accuracy = 0.76049766718507\n",
      "Accuracy = 0.7153965785381027\n",
      "Accuracy = 0.7573872472783826\n",
      "Accuracy = 0.7900466562986003\n",
      "Accuracy = 0.7698289269051322\n",
      "Accuracy = 0.776049766718507\n",
      "Accuracy = 0.7729393468118196\n",
      "Accuracy = 0.7713841368584758\n",
      "Accuracy = 0.776049766718507\n",
      "Accuracy = 0.7791601866251944\n",
      "Accuracy = 0.744945567651633\n",
      "Accuracy = 0.7122861586314152\n",
      "Accuracy = 0.7589424572317263\n",
      "Accuracy = 0.7900466562986003\n",
      "Accuracy = 0.7791601866251944\n",
      "Accuracy = 0.7853810264385692\n",
      "Accuracy = 0.7947122861586314\n",
      "Accuracy = 0.7807153965785381\n",
      "Accuracy = 0.7900466562986003\n",
      "Accuracy = 0.7884914463452566\n",
      "Accuracy = 0.7791601866251944\n",
      "Accuracy = 0.7169517884914464\n",
      "Accuracy = 0.776049766718507\n",
      "Accuracy = 0.7900466562986003\n",
      "Accuracy = 0.7791601866251944\n",
      "Accuracy = 0.7900466562986003\n",
      "Accuracy = 0.7884914463452566\n",
      "Accuracy = 0.7916018662519441\n",
      "Accuracy = 0.7978227060653188\n",
      "Accuracy = 0.7900466562986003\n",
      "Accuracy = 0.7713841368584758\n",
      "Accuracy = 0.7651632970451011\n",
      "Accuracy = 0.7698289269051322\n",
      "Accuracy = 0.7916018662519441\n",
      "Accuracy = 0.7729393468118196\n",
      "Accuracy = 0.7822706065318819\n",
      "Accuracy = 0.7962674961119751\n",
      "Accuracy = 0.7807153965785381\n",
      "Accuracy = 0.7962674961119751\n",
      "Accuracy = 0.7931570762052877\n",
      "Accuracy = 0.7838258164852255\n",
      "Accuracy = 0.7511664074650077\n",
      "Accuracy = 0.7744945567651633\n",
      "Accuracy = 0.7947122861586314\n",
      "Accuracy = 0.7776049766718507\n",
      "Accuracy = 0.7853810264385692\n",
      "Accuracy = 0.807153965785381\n",
      "Accuracy = 0.7931570762052877\n",
      "Accuracy = 0.7884914463452566\n",
      "Accuracy = 0.7978227060653188\n",
      "Accuracy = 0.7869362363919129\n",
      "Accuracy = 0.7667185069984448\n",
      "Accuracy = 0.7791601866251944\n",
      "Accuracy = 0.7962674961119751\n",
      "Accuracy = 0.7791601866251944\n",
      "Accuracy = 0.7838258164852255\n",
      "Accuracy = 0.8009331259720062\n",
      "Accuracy = 0.7931570762052877\n",
      "Accuracy = 0.7978227060653188\n",
      "Accuracy = 0.7993779160186625\n",
      "Accuracy = 0.7916018662519441\n",
      "Accuracy = 0.7620528771384136\n",
      "Accuracy = 0.7791601866251944\n",
      "Accuracy = 0.7931570762052877\n",
      "Accuracy = 0.7807153965785381\n",
      "Accuracy = 0.7947122861586314\n",
      "Accuracy = 0.8009331259720062\n",
      "Accuracy = 0.7931570762052877\n",
      "Accuracy = 0.7947122861586314\n",
      "Accuracy = 0.7993779160186625\n",
      "Accuracy = 0.80248833592535\n",
      "Accuracy = 0.7511664074650077\n",
      "Accuracy = 0.7776049766718507\n",
      "Accuracy = 0.7947122861586314\n",
      "Accuracy = 0.7822706065318819\n",
      "Accuracy = 0.7884914463452566\n",
      "Accuracy = 0.8009331259720062\n",
      "Accuracy = 0.7931570762052877\n",
      "Accuracy = 0.7916018662519441\n",
      "Accuracy = 0.7993779160186625\n",
      "Accuracy = 0.7947122861586314\n",
      "Accuracy = 0.7573872472783826\n",
      "Accuracy = 0.776049766718507\n",
      "Accuracy = 0.7947122861586314\n",
      "Accuracy = 0.7916018662519441\n",
      "Accuracy = 0.7884914463452566\n",
      "Accuracy = 0.8040435458786936\n",
      "Accuracy = 0.7931570762052877\n",
      "Accuracy = 0.7978227060653188\n",
      "Accuracy = 0.8040435458786936\n",
      "Accuracy = 0.7993779160186625\n",
      "Best Accuracy in est 6, depth 6 = 0.807153965785381\n"
     ]
    }
   ],
   "source": [
    "# RandomForestClassifier\n",
    "\n",
    "#Для данной модели будем подбирать оптимальные гиперпараметры количества деревьев и глубины дерева \n",
    "best_accuracy = 0\n",
    "model_nomber = None\n",
    "model_depth = None\n",
    "for est in range(1,11):\n",
    "    for depth in range(1,11):\n",
    "        model_rand = RandomForestClassifier(random_state=12345, n_estimators=est, max_depth = depth)\n",
    "        model_rand.fit(train_features,train_target)\n",
    "        prediction = model_rand.predict(valid_features)\n",
    "        accuracy_rand_tree = accuracy_score(valid_target, prediction)\n",
    "        if accuracy_rand_tree > best_accuracy:\n",
    "            best_accuracy = accuracy_rand_tree\n",
    "            model_nomber = est\n",
    "            model_depth = depth\n",
    "        else:    \n",
    "            best_accuracy=best_accuracy\n",
    "        print(f'Accuracy = {accuracy_rand_tree}')        \n",
    "print(f'Best Accuracy in est {model_nomber}, depth {model_depth} = {best_accuracy}')        "
   ]
  },
  {
   "cell_type": "markdown",
   "metadata": {},
   "source": [
    "Даже с двумя деревьями мы получили accuracy сильно больше необходимой. Лучший результат из 100 вариантов показало количество деревьев 6 и глубина дерева 6."
   ]
  },
  {
   "cell_type": "code",
   "execution_count": 9,
   "metadata": {},
   "outputs": [
    {
     "name": "stdout",
     "output_type": "stream",
     "text": [
      "Accuracy = 0.8319502074688797\n"
     ]
    }
   ],
   "source": [
    "model_rand = RandomForestClassifier(random_state=12345, n_estimators=6, max_depth =6)\n",
    "model_rand.fit(train_features,train_target)\n",
    "prediction = model_rand.predict(train_features)\n",
    "accuracy_rand_tree = accuracy_score(train_target, prediction)\n",
    "print(f'Accuracy = {accuracy_rand_tree}') "
   ]
  },
  {
   "cell_type": "markdown",
   "metadata": {},
   "source": [
    "Проверим возможно нам подойдет дерево решений, ведь оно самое быстрое из предложенных моделей.\n"
   ]
  },
  {
   "cell_type": "code",
   "execution_count": 10,
   "metadata": {},
   "outputs": [
    {
     "name": "stdout",
     "output_type": "stream",
     "text": [
      "Accuracy = 0.7402799377916018\n",
      "Accuracy = 0.7729393468118196\n",
      "Accuracy = 0.7776049766718507\n",
      "Accuracy = 0.7542768273716952\n",
      "Accuracy = 0.7853810264385692\n",
      "Accuracy = 0.7744945567651633\n",
      "Accuracy = 0.7869362363919129\n",
      "Accuracy = 0.80248833592535\n",
      "Accuracy = 0.7822706065318819\n",
      "Accuracy = 0.7729393468118196\n",
      "Accuracy = 0.7620528771384136\n",
      "Accuracy = 0.7527216174183515\n",
      "Accuracy = 0.744945567651633\n",
      "Accuracy = 0.7558320373250389\n",
      "Accuracy = 0.7480559875583204\n",
      "Accuracy = 0.7387247278382582\n",
      "Accuracy = 0.7153965785381027\n",
      "Accuracy = 0.7076205287713841\n",
      "Accuracy = 0.7045101088646968\n",
      "Accuracy = 0.7060653188180405\n",
      "Best Accuracy in est 8 = 0.80248833592535\n"
     ]
    }
   ],
   "source": [
    "#DecisionTree\n",
    "\n",
    "# найдем оптимальный гиперпараметр max_depth\n",
    "best_accuracy = 0\n",
    "model_nomber = None\n",
    "for depth in range(1,21):\n",
    "    model = DecisionTreeClassifier(random_state=12345, max_depth=depth)\n",
    "    model.fit(train_features,train_target)\n",
    "    prediction = model.predict(valid_features)\n",
    "    accuracy_tree = accuracy_score(valid_target, prediction)\n",
    "    if accuracy_tree > best_accuracy:\n",
    "        best_accuracy = accuracy_tree\n",
    "        model_nomber = depth\n",
    "    else:    \n",
    "        best_accuracy=best_accuracy\n",
    "    print(f'Accuracy = {accuracy_tree}')        \n",
    "print(f'Best Accuracy in est {model_nomber} = {best_accuracy}')         "
   ]
  },
  {
   "cell_type": "markdown",
   "metadata": {},
   "source": [
    "Нашим требованиям удовлетворяет уже глубина дерева 1, чтобы accuracy наверняка была выше 0.75, примем за максимальную глубину дерева 8"
   ]
  },
  {
   "cell_type": "code",
   "execution_count": 14,
   "metadata": {},
   "outputs": [
    {
     "name": "stdout",
     "output_type": "stream",
     "text": [
      "Accuracy = 0.8558091286307054\n"
     ]
    }
   ],
   "source": [
    "\n",
    "model = DecisionTreeClassifier(random_state=12345, max_depth=8)\n",
    "model.fit(train_features,train_target)\n",
    "prediction = model.predict(train_features)\n",
    "accuracy_train = accuracy_score(train_target, prediction)\n",
    "print(f'Accuracy = {accuracy_train}')"
   ]
  },
  {
   "cell_type": "markdown",
   "metadata": {},
   "source": [
    "### Вывод\n",
    "Необходимое значение accuracy у модели \"решающее дерево\" и \"случайный лес\". Поскольку 'случайный' лес менее склонен к переобучению и показал лучшие результаты, для теста выбираем ее."
   ]
  },
  {
   "cell_type": "markdown",
   "metadata": {},
   "source": [
    "## Провка модели на тестовой выборке"
   ]
  },
  {
   "cell_type": "markdown",
   "metadata": {},
   "source": [
    "Проверим модель случайного леса "
   ]
  },
  {
   "cell_type": "code",
   "execution_count": 15,
   "metadata": {},
   "outputs": [
    {
     "name": "stdout",
     "output_type": "stream",
     "text": [
      "Accuracy = 0.8102643856920684\n"
     ]
    }
   ],
   "source": [
    "prediction = model_rand.predict(test_features)\n",
    "accuracy_rand_test = accuracy_score(test_target, prediction)\n",
    "print(f'Accuracy = {accuracy_rand_test}')"
   ]
  },
  {
   "cell_type": "markdown",
   "metadata": {},
   "source": [
    "### Вывод\n",
    "Значение для выбранной модели \"случайного леса\" Accuracy = 0.8102643856920684\n",
    "Нас это удовлетворяет."
   ]
  },
  {
   "cell_type": "markdown",
   "metadata": {},
   "source": [
    "##  Проверка модели на адекватность"
   ]
  },
  {
   "cell_type": "markdown",
   "metadata": {},
   "source": [
    "Сравним тестовую выборки c baseline"
   ]
  },
  {
   "cell_type": "code",
   "execution_count": 16,
   "metadata": {},
   "outputs": [
    {
     "data": {
      "text/plain": [
       "0.6936236391912908"
      ]
     },
     "execution_count": 16,
     "metadata": {},
     "output_type": "execute_result"
    }
   ],
   "source": [
    "dummy_clf = DummyClassifier(strategy=\"most_frequent\")\n",
    "dummy_clf.fit(train_features,train_target)\n",
    "dummy_clf.score(valid_features,valid_target)\n"
   ]
  },
  {
   "cell_type": "markdown",
   "metadata": {},
   "source": [
    "### Вывод\n",
    "Значение accuracy для baseline алгоритма оказалась меньше чем для модели \"случайный лес\". Тест на адекватность пройден."
   ]
  },
  {
   "cell_type": "markdown",
   "metadata": {},
   "source": [
    "## Вывод"
   ]
  },
  {
   "cell_type": "markdown",
   "metadata": {},
   "source": [
    "Для поставленной задачи нам подходят две модели:\n",
    "- Дерево решений\n",
    "- Случайный лес\n",
    "\n",
    "Логистическая регрессия показала значение accuracy меньше 0.75 \n",
    "\n",
    "Accuracy тестовой выбороки для модели случайного леса равна 0.81. Тест на адекватность пройден, Выбираем модель \"случайный лес\""
   ]
  }
 ],
 "metadata": {
  "ExecuteTimeLog": [
   {
    "duration": 514,
    "start_time": "2023-01-23T06:52:14.656Z"
   },
   {
    "duration": 17,
    "start_time": "2023-01-23T06:52:45.149Z"
   },
   {
    "duration": 13,
    "start_time": "2023-01-23T06:54:42.704Z"
   },
   {
    "duration": 13,
    "start_time": "2023-01-23T06:54:48.962Z"
   },
   {
    "duration": 752,
    "start_time": "2023-01-23T06:58:43.269Z"
   },
   {
    "duration": 27,
    "start_time": "2023-01-23T06:58:49.653Z"
   },
   {
    "duration": 8,
    "start_time": "2023-01-23T07:01:57.459Z"
   },
   {
    "duration": 390,
    "start_time": "2023-01-23T07:28:34.852Z"
   },
   {
    "duration": 204,
    "start_time": "2023-01-23T07:28:56.341Z"
   },
   {
    "duration": 11,
    "start_time": "2023-01-23T07:30:16.409Z"
   },
   {
    "duration": 6,
    "start_time": "2023-01-23T07:30:24.351Z"
   },
   {
    "duration": 80,
    "start_time": "2023-01-23T07:46:57.785Z"
   },
   {
    "duration": 97,
    "start_time": "2023-01-23T07:47:04.144Z"
   },
   {
    "duration": 2417,
    "start_time": "2023-01-23T07:47:15.139Z"
   },
   {
    "duration": 2474,
    "start_time": "2023-01-23T07:47:58.016Z"
   },
   {
    "duration": 2360,
    "start_time": "2023-01-23T07:48:45.495Z"
   },
   {
    "duration": 2366,
    "start_time": "2023-01-23T07:49:21.506Z"
   },
   {
    "duration": 9626,
    "start_time": "2023-01-23T07:50:29.409Z"
   },
   {
    "duration": 444,
    "start_time": "2023-01-23T07:51:15.869Z"
   },
   {
    "duration": 11,
    "start_time": "2023-01-23T07:51:16.315Z"
   },
   {
    "duration": 36,
    "start_time": "2023-01-23T07:51:16.328Z"
   },
   {
    "duration": 694,
    "start_time": "2023-01-23T07:51:16.365Z"
   },
   {
    "duration": 288,
    "start_time": "2023-01-23T07:51:17.061Z"
   },
   {
    "duration": 9781,
    "start_time": "2023-01-23T07:51:17.350Z"
   },
   {
    "duration": 7,
    "start_time": "2023-01-23T07:51:27.133Z"
   },
   {
    "duration": 396,
    "start_time": "2023-01-23T07:51:45.596Z"
   },
   {
    "duration": 20,
    "start_time": "2023-01-23T07:51:45.994Z"
   },
   {
    "duration": 17,
    "start_time": "2023-01-23T07:51:46.016Z"
   },
   {
    "duration": 719,
    "start_time": "2023-01-23T07:51:46.035Z"
   },
   {
    "duration": 2,
    "start_time": "2023-01-23T07:51:46.757Z"
   },
   {
    "duration": 158,
    "start_time": "2023-01-23T07:51:46.760Z"
   },
   {
    "duration": 0,
    "start_time": "2023-01-23T07:51:46.920Z"
   },
   {
    "duration": 0,
    "start_time": "2023-01-23T07:51:46.921Z"
   },
   {
    "duration": 9630,
    "start_time": "2023-01-23T07:52:03.220Z"
   },
   {
    "duration": 355,
    "start_time": "2023-01-23T07:53:36.465Z"
   },
   {
    "duration": 1205,
    "start_time": "2023-01-23T07:53:51.200Z"
   },
   {
    "duration": 1165,
    "start_time": "2023-01-23T07:54:32.533Z"
   },
   {
    "duration": 1252,
    "start_time": "2023-01-23T07:54:48.014Z"
   },
   {
    "duration": 1242,
    "start_time": "2023-01-23T07:56:12.744Z"
   },
   {
    "duration": 1313,
    "start_time": "2023-01-23T07:56:43.350Z"
   },
   {
    "duration": 69,
    "start_time": "2023-01-23T07:59:09.572Z"
   },
   {
    "duration": 79,
    "start_time": "2023-01-23T08:00:11.308Z"
   },
   {
    "duration": 1192,
    "start_time": "2023-01-23T08:01:08.963Z"
   },
   {
    "duration": 1274,
    "start_time": "2023-01-23T08:01:37.836Z"
   },
   {
    "duration": 16,
    "start_time": "2023-01-23T08:05:35.639Z"
   },
   {
    "duration": 238,
    "start_time": "2023-01-23T08:05:43.304Z"
   },
   {
    "duration": 212,
    "start_time": "2023-01-23T08:06:17.204Z"
   },
   {
    "duration": 233,
    "start_time": "2023-01-23T08:06:46.152Z"
   },
   {
    "duration": 77,
    "start_time": "2023-01-23T08:09:49.060Z"
   },
   {
    "duration": 401,
    "start_time": "2023-01-23T08:11:39.381Z"
   },
   {
    "duration": 11,
    "start_time": "2023-01-23T08:11:39.784Z"
   },
   {
    "duration": 19,
    "start_time": "2023-01-23T08:11:39.798Z"
   },
   {
    "duration": 723,
    "start_time": "2023-01-23T08:11:39.819Z"
   },
   {
    "duration": 300,
    "start_time": "2023-01-23T08:11:40.544Z"
   },
   {
    "duration": 1362,
    "start_time": "2023-01-23T08:11:40.846Z"
   },
   {
    "duration": 242,
    "start_time": "2023-01-23T08:11:42.210Z"
   },
   {
    "duration": 113,
    "start_time": "2023-01-23T08:11:42.453Z"
   },
   {
    "duration": 9,
    "start_time": "2023-01-23T08:13:37.373Z"
   },
   {
    "duration": 6,
    "start_time": "2023-01-23T08:13:51.679Z"
   },
   {
    "duration": 15,
    "start_time": "2023-01-23T08:14:26.051Z"
   },
   {
    "duration": 457,
    "start_time": "2023-01-23T08:15:46.018Z"
   },
   {
    "duration": 12,
    "start_time": "2023-01-23T08:15:46.476Z"
   },
   {
    "duration": 52,
    "start_time": "2023-01-23T08:15:46.489Z"
   },
   {
    "duration": 668,
    "start_time": "2023-01-23T08:15:46.543Z"
   },
   {
    "duration": 143,
    "start_time": "2023-01-23T08:15:47.214Z"
   },
   {
    "duration": 1330,
    "start_time": "2023-01-23T08:15:47.443Z"
   },
   {
    "duration": 141,
    "start_time": "2023-01-23T08:15:48.775Z"
   },
   {
    "duration": 268,
    "start_time": "2023-01-23T08:15:48.918Z"
   },
   {
    "duration": 115,
    "start_time": "2023-01-23T08:15:49.189Z"
   },
   {
    "duration": 0,
    "start_time": "2023-01-23T08:15:49.306Z"
   },
   {
    "duration": 11,
    "start_time": "2023-01-23T08:16:47.463Z"
   },
   {
    "duration": 6,
    "start_time": "2023-01-23T08:16:53.680Z"
   },
   {
    "duration": 11,
    "start_time": "2023-01-23T08:19:30.271Z"
   },
   {
    "duration": 7,
    "start_time": "2023-01-23T08:19:33.389Z"
   },
   {
    "duration": 14,
    "start_time": "2023-01-23T08:19:41.751Z"
   },
   {
    "duration": 7,
    "start_time": "2023-01-23T08:19:44.031Z"
   },
   {
    "duration": 12,
    "start_time": "2023-01-23T08:19:57.495Z"
   },
   {
    "duration": 6,
    "start_time": "2023-01-23T08:19:59.416Z"
   },
   {
    "duration": 130,
    "start_time": "2023-01-23T08:22:42.018Z"
   },
   {
    "duration": 7,
    "start_time": "2023-01-23T08:23:15.094Z"
   },
   {
    "duration": 139,
    "start_time": "2023-01-23T08:23:17.310Z"
   },
   {
    "duration": 1154,
    "start_time": "2023-01-23T08:23:50.114Z"
   },
   {
    "duration": 74,
    "start_time": "2023-01-23T08:24:19.554Z"
   },
   {
    "duration": 73,
    "start_time": "2023-01-23T08:24:42.936Z"
   },
   {
    "duration": 224,
    "start_time": "2023-01-23T08:25:06.971Z"
   },
   {
    "duration": 198,
    "start_time": "2023-01-23T08:26:15.483Z"
   },
   {
    "duration": 216,
    "start_time": "2023-01-23T08:27:43.876Z"
   },
   {
    "duration": 223,
    "start_time": "2023-01-23T08:28:05.017Z"
   },
   {
    "duration": 446,
    "start_time": "2023-01-23T08:28:20.055Z"
   },
   {
    "duration": 13,
    "start_time": "2023-01-23T08:28:20.504Z"
   },
   {
    "duration": 65,
    "start_time": "2023-01-23T08:28:20.519Z"
   },
   {
    "duration": 766,
    "start_time": "2023-01-23T08:28:20.585Z"
   },
   {
    "duration": 289,
    "start_time": "2023-01-23T08:28:21.353Z"
   },
   {
    "duration": 1282,
    "start_time": "2023-01-23T08:28:21.647Z"
   },
   {
    "duration": 73,
    "start_time": "2023-01-23T08:28:22.931Z"
   },
   {
    "duration": 274,
    "start_time": "2023-01-23T08:28:23.006Z"
   },
   {
    "duration": 11,
    "start_time": "2023-01-23T08:28:23.282Z"
   },
   {
    "duration": 130,
    "start_time": "2023-01-23T08:28:23.294Z"
   },
   {
    "duration": 224,
    "start_time": "2023-01-23T08:29:25.560Z"
   },
   {
    "duration": 69,
    "start_time": "2023-01-23T08:29:39.461Z"
   },
   {
    "duration": 14,
    "start_time": "2023-01-23T08:29:42.402Z"
   },
   {
    "duration": 14,
    "start_time": "2023-01-23T08:30:05.524Z"
   },
   {
    "duration": 6,
    "start_time": "2023-01-23T08:30:19.574Z"
   },
   {
    "duration": 271,
    "start_time": "2023-01-23T08:32:21.132Z"
   },
   {
    "duration": 10,
    "start_time": "2023-01-23T08:33:08.713Z"
   },
   {
    "duration": 6,
    "start_time": "2023-01-23T08:33:17.090Z"
   },
   {
    "duration": 13,
    "start_time": "2023-01-23T08:34:30.163Z"
   },
   {
    "duration": 7,
    "start_time": "2023-01-23T08:34:31.810Z"
   },
   {
    "duration": 12,
    "start_time": "2023-01-23T08:34:37.587Z"
   },
   {
    "duration": 7,
    "start_time": "2023-01-23T08:34:39.683Z"
   },
   {
    "duration": 11,
    "start_time": "2023-01-23T08:34:51.204Z"
   },
   {
    "duration": 6,
    "start_time": "2023-01-23T08:34:52.781Z"
   },
   {
    "duration": 10,
    "start_time": "2023-01-23T08:34:58.525Z"
   },
   {
    "duration": 7,
    "start_time": "2023-01-23T08:35:00.270Z"
   },
   {
    "duration": 6,
    "start_time": "2023-01-23T08:35:55.012Z"
   },
   {
    "duration": 9,
    "start_time": "2023-01-23T08:36:06.325Z"
   },
   {
    "duration": 75,
    "start_time": "2023-01-23T08:40:33.234Z"
   },
   {
    "duration": 70,
    "start_time": "2023-01-23T08:42:37.505Z"
   },
   {
    "duration": 10,
    "start_time": "2023-01-23T08:42:52.035Z"
   },
   {
    "duration": 9,
    "start_time": "2023-01-23T08:49:19.460Z"
   },
   {
    "duration": 9,
    "start_time": "2023-01-23T08:49:24.548Z"
   },
   {
    "duration": 3,
    "start_time": "2023-01-23T08:49:26.159Z"
   },
   {
    "duration": 3,
    "start_time": "2023-01-23T08:51:16.667Z"
   },
   {
    "duration": 10,
    "start_time": "2023-01-23T08:51:49.911Z"
   },
   {
    "duration": 3,
    "start_time": "2023-01-23T08:52:01.593Z"
   },
   {
    "duration": 435,
    "start_time": "2023-01-23T08:52:55.155Z"
   },
   {
    "duration": 13,
    "start_time": "2023-01-23T08:52:55.592Z"
   },
   {
    "duration": 22,
    "start_time": "2023-01-23T08:52:55.607Z"
   },
   {
    "duration": 696,
    "start_time": "2023-01-23T08:52:55.631Z"
   },
   {
    "duration": 218,
    "start_time": "2023-01-23T08:52:56.330Z"
   },
   {
    "duration": 1301,
    "start_time": "2023-01-23T08:52:56.641Z"
   },
   {
    "duration": 68,
    "start_time": "2023-01-23T08:52:57.944Z"
   },
   {
    "duration": 251,
    "start_time": "2023-01-23T08:52:58.013Z"
   },
   {
    "duration": 11,
    "start_time": "2023-01-23T08:52:58.265Z"
   },
   {
    "duration": 32,
    "start_time": "2023-01-23T08:52:58.277Z"
   },
   {
    "duration": 32,
    "start_time": "2023-01-23T08:52:58.311Z"
   },
   {
    "duration": 26,
    "start_time": "2023-01-23T08:52:58.345Z"
   },
   {
    "duration": 103,
    "start_time": "2023-01-23T08:53:30.314Z"
   },
   {
    "duration": 4,
    "start_time": "2023-01-23T08:54:22.662Z"
   },
   {
    "duration": 3,
    "start_time": "2023-01-23T08:54:31.633Z"
   },
   {
    "duration": 410,
    "start_time": "2023-01-23T08:54:43.784Z"
   },
   {
    "duration": 13,
    "start_time": "2023-01-23T08:54:44.196Z"
   },
   {
    "duration": 23,
    "start_time": "2023-01-23T08:54:44.210Z"
   },
   {
    "duration": 700,
    "start_time": "2023-01-23T08:54:44.236Z"
   },
   {
    "duration": 305,
    "start_time": "2023-01-23T08:54:44.938Z"
   },
   {
    "duration": 1415,
    "start_time": "2023-01-23T08:54:45.245Z"
   },
   {
    "duration": 80,
    "start_time": "2023-01-23T08:54:46.661Z"
   },
   {
    "duration": 230,
    "start_time": "2023-01-23T08:54:46.742Z"
   },
   {
    "duration": 9,
    "start_time": "2023-01-23T08:54:46.974Z"
   },
   {
    "duration": 23,
    "start_time": "2023-01-23T08:54:46.986Z"
   },
   {
    "duration": 32,
    "start_time": "2023-01-23T08:54:47.010Z"
   },
   {
    "duration": 27,
    "start_time": "2023-01-23T08:54:47.044Z"
   },
   {
    "duration": 108,
    "start_time": "2023-01-23T08:55:50.957Z"
   },
   {
    "duration": 212,
    "start_time": "2023-01-23T08:55:52.604Z"
   },
   {
    "duration": 10,
    "start_time": "2023-01-23T08:55:53.402Z"
   },
   {
    "duration": 6,
    "start_time": "2023-01-23T08:55:54.490Z"
   },
   {
    "duration": 15,
    "start_time": "2023-01-23T08:55:55.834Z"
   },
   {
    "duration": 4,
    "start_time": "2023-01-23T08:55:57.770Z"
   },
   {
    "duration": 487,
    "start_time": "2023-01-23T08:56:09.701Z"
   },
   {
    "duration": 12,
    "start_time": "2023-01-23T08:56:10.190Z"
   },
   {
    "duration": 60,
    "start_time": "2023-01-23T08:56:10.204Z"
   },
   {
    "duration": 762,
    "start_time": "2023-01-23T08:56:10.266Z"
   },
   {
    "duration": 215,
    "start_time": "2023-01-23T08:56:11.030Z"
   },
   {
    "duration": 1447,
    "start_time": "2023-01-23T08:56:11.247Z"
   },
   {
    "duration": 117,
    "start_time": "2023-01-23T08:56:12.696Z"
   },
   {
    "duration": 256,
    "start_time": "2023-01-23T08:56:12.815Z"
   },
   {
    "duration": 13,
    "start_time": "2023-01-23T08:56:13.073Z"
   },
   {
    "duration": 34,
    "start_time": "2023-01-23T08:56:13.088Z"
   },
   {
    "duration": 30,
    "start_time": "2023-01-23T08:56:13.124Z"
   },
   {
    "duration": 9,
    "start_time": "2023-01-23T08:56:13.155Z"
   },
   {
    "duration": 94,
    "start_time": "2023-01-23T09:02:50.249Z"
   },
   {
    "duration": 22,
    "start_time": "2023-01-23T09:03:17.452Z"
   },
   {
    "duration": 244,
    "start_time": "2023-01-23T09:03:19.325Z"
   },
   {
    "duration": 13,
    "start_time": "2023-01-23T09:03:20.405Z"
   },
   {
    "duration": 5,
    "start_time": "2023-01-23T09:03:21.237Z"
   },
   {
    "duration": 8,
    "start_time": "2023-01-23T09:03:22.605Z"
   },
   {
    "duration": 3,
    "start_time": "2023-01-23T09:03:25.061Z"
   },
   {
    "duration": 129,
    "start_time": "2023-01-23T09:03:38.944Z"
   },
   {
    "duration": 229,
    "start_time": "2023-01-23T09:03:40.528Z"
   },
   {
    "duration": 11,
    "start_time": "2023-01-23T09:03:41.174Z"
   },
   {
    "duration": 6,
    "start_time": "2023-01-23T09:03:42.047Z"
   },
   {
    "duration": 12,
    "start_time": "2023-01-23T09:03:42.775Z"
   },
   {
    "duration": 3,
    "start_time": "2023-01-23T09:03:43.375Z"
   },
   {
    "duration": 77,
    "start_time": "2023-01-23T09:05:11.937Z"
   },
   {
    "duration": 110,
    "start_time": "2023-01-23T09:28:33.808Z"
   },
   {
    "duration": 10,
    "start_time": "2023-01-23T09:28:48.201Z"
   },
   {
    "duration": 475,
    "start_time": "2023-01-23T09:28:58.557Z"
   },
   {
    "duration": 16,
    "start_time": "2023-01-23T09:28:59.035Z"
   },
   {
    "duration": 51,
    "start_time": "2023-01-23T09:28:59.053Z"
   },
   {
    "duration": 778,
    "start_time": "2023-01-23T09:28:59.107Z"
   },
   {
    "duration": 44,
    "start_time": "2023-01-23T09:28:59.886Z"
   },
   {
    "duration": 1083,
    "start_time": "2023-01-23T09:28:59.932Z"
   },
   {
    "duration": 97,
    "start_time": "2023-01-23T09:29:01.017Z"
   },
   {
    "duration": 217,
    "start_time": "2023-01-23T09:29:01.116Z"
   },
   {
    "duration": 10,
    "start_time": "2023-01-23T09:29:01.340Z"
   },
   {
    "duration": 55,
    "start_time": "2023-01-23T09:29:01.353Z"
   },
   {
    "duration": 60,
    "start_time": "2023-01-23T09:29:01.411Z"
   },
   {
    "duration": 48,
    "start_time": "2023-01-23T09:29:01.473Z"
   },
   {
    "duration": 457,
    "start_time": "2023-01-23T09:35:38.215Z"
   },
   {
    "duration": 14,
    "start_time": "2023-01-23T09:35:38.674Z"
   },
   {
    "duration": 18,
    "start_time": "2023-01-23T09:35:38.690Z"
   },
   {
    "duration": 813,
    "start_time": "2023-01-23T09:35:38.710Z"
   },
   {
    "duration": 47,
    "start_time": "2023-01-23T09:35:39.526Z"
   },
   {
    "duration": 1105,
    "start_time": "2023-01-23T09:35:39.575Z"
   },
   {
    "duration": 95,
    "start_time": "2023-01-23T09:35:40.682Z"
   },
   {
    "duration": 210,
    "start_time": "2023-01-23T09:35:40.779Z"
   },
   {
    "duration": 10,
    "start_time": "2023-01-23T09:35:40.991Z"
   },
   {
    "duration": 32,
    "start_time": "2023-01-23T09:35:41.003Z"
   },
   {
    "duration": 142,
    "start_time": "2023-01-23T09:35:41.037Z"
   },
   {
    "duration": 0,
    "start_time": "2023-01-23T09:35:41.181Z"
   },
   {
    "duration": 422,
    "start_time": "2023-01-23T09:36:03.174Z"
   },
   {
    "duration": 12,
    "start_time": "2023-01-23T09:36:03.598Z"
   },
   {
    "duration": 21,
    "start_time": "2023-01-23T09:36:03.611Z"
   },
   {
    "duration": 718,
    "start_time": "2023-01-23T09:36:03.633Z"
   },
   {
    "duration": 52,
    "start_time": "2023-01-23T09:36:04.353Z"
   },
   {
    "duration": 1069,
    "start_time": "2023-01-23T09:36:04.406Z"
   },
   {
    "duration": 97,
    "start_time": "2023-01-23T09:36:05.477Z"
   },
   {
    "duration": 194,
    "start_time": "2023-01-23T09:36:05.576Z"
   },
   {
    "duration": 9,
    "start_time": "2023-01-23T09:36:05.771Z"
   },
   {
    "duration": 17,
    "start_time": "2023-01-23T09:36:05.782Z"
   },
   {
    "duration": 79,
    "start_time": "2023-01-23T09:36:05.801Z"
   },
   {
    "duration": 3,
    "start_time": "2023-01-23T09:36:05.882Z"
   },
   {
    "duration": 445,
    "start_time": "2023-01-23T09:38:37.889Z"
   },
   {
    "duration": 12,
    "start_time": "2023-01-23T09:38:38.336Z"
   },
   {
    "duration": 53,
    "start_time": "2023-01-23T09:38:38.350Z"
   },
   {
    "duration": 806,
    "start_time": "2023-01-23T09:38:38.405Z"
   },
   {
    "duration": 44,
    "start_time": "2023-01-23T09:38:39.213Z"
   },
   {
    "duration": 1096,
    "start_time": "2023-01-23T09:38:39.259Z"
   },
   {
    "duration": 99,
    "start_time": "2023-01-23T09:38:40.357Z"
   },
   {
    "duration": 195,
    "start_time": "2023-01-23T09:38:40.458Z"
   },
   {
    "duration": 11,
    "start_time": "2023-01-23T09:38:40.655Z"
   },
   {
    "duration": 20,
    "start_time": "2023-01-23T09:38:40.669Z"
   },
   {
    "duration": 29,
    "start_time": "2023-01-23T09:38:40.690Z"
   },
   {
    "duration": 22,
    "start_time": "2023-01-23T09:38:40.720Z"
   },
   {
    "duration": 11,
    "start_time": "2023-01-23T09:39:33.626Z"
   },
   {
    "duration": 6,
    "start_time": "2023-01-23T09:39:35.378Z"
   },
   {
    "duration": 12,
    "start_time": "2023-01-23T09:39:36.778Z"
   },
   {
    "duration": 4,
    "start_time": "2023-01-23T09:39:40.387Z"
   },
   {
    "duration": 73,
    "start_time": "2023-01-23T09:39:45.699Z"
   },
   {
    "duration": 9,
    "start_time": "2023-01-23T09:39:52.572Z"
   },
   {
    "duration": 6,
    "start_time": "2023-01-23T09:39:53.342Z"
   },
   {
    "duration": 10,
    "start_time": "2023-01-23T09:39:53.912Z"
   },
   {
    "duration": 5,
    "start_time": "2023-01-23T09:39:54.947Z"
   },
   {
    "duration": 9,
    "start_time": "2023-01-23T09:40:06.277Z"
   },
   {
    "duration": 6,
    "start_time": "2023-01-23T09:40:07.180Z"
   },
   {
    "duration": 12,
    "start_time": "2023-01-23T09:40:07.900Z"
   },
   {
    "duration": 4,
    "start_time": "2023-01-23T09:40:08.269Z"
   },
   {
    "duration": 11,
    "start_time": "2023-01-23T09:42:23.197Z"
   },
   {
    "duration": 12,
    "start_time": "2023-01-23T09:42:55.865Z"
   },
   {
    "duration": 6,
    "start_time": "2023-01-23T09:43:48.424Z"
   },
   {
    "duration": 8,
    "start_time": "2023-01-23T09:45:30.233Z"
   },
   {
    "duration": 16208,
    "start_time": "2023-01-23T10:04:28.016Z"
   },
   {
    "duration": 6515,
    "start_time": "2023-01-23T10:05:03.989Z"
   },
   {
    "duration": 2094,
    "start_time": "2023-01-23T10:06:34.751Z"
   },
   {
    "duration": 92,
    "start_time": "2023-01-23T10:08:05.984Z"
   },
   {
    "duration": 1977,
    "start_time": "2023-01-23T10:09:10.328Z"
   },
   {
    "duration": 52,
    "start_time": "2023-01-23T10:09:52.076Z"
   },
   {
    "duration": 47,
    "start_time": "2023-01-23T10:10:13.678Z"
   },
   {
    "duration": 196,
    "start_time": "2023-01-23T10:10:36.226Z"
   },
   {
    "duration": 10,
    "start_time": "2023-01-23T10:10:37.033Z"
   },
   {
    "duration": 7,
    "start_time": "2023-01-23T10:10:38.137Z"
   },
   {
    "duration": 10,
    "start_time": "2023-01-23T10:10:39.242Z"
   },
   {
    "duration": 4,
    "start_time": "2023-01-23T10:10:39.921Z"
   },
   {
    "duration": 9,
    "start_time": "2023-01-23T10:10:41.523Z"
   },
   {
    "duration": 6,
    "start_time": "2023-01-23T10:10:42.375Z"
   },
   {
    "duration": 7,
    "start_time": "2023-01-23T10:10:43.082Z"
   },
   {
    "duration": 16886,
    "start_time": "2023-01-23T10:11:43.785Z"
   },
   {
    "duration": 121,
    "start_time": "2023-01-23T10:12:15.901Z"
   },
   {
    "duration": 198,
    "start_time": "2023-01-23T10:12:16.774Z"
   },
   {
    "duration": 10,
    "start_time": "2023-01-23T10:12:17.406Z"
   },
   {
    "duration": 6,
    "start_time": "2023-01-23T10:12:18.341Z"
   },
   {
    "duration": 14,
    "start_time": "2023-01-23T10:12:19.416Z"
   },
   {
    "duration": 4,
    "start_time": "2023-01-23T10:12:19.900Z"
   },
   {
    "duration": 12,
    "start_time": "2023-01-23T10:12:21.309Z"
   },
   {
    "duration": 7,
    "start_time": "2023-01-23T10:12:21.533Z"
   },
   {
    "duration": 6,
    "start_time": "2023-01-23T10:12:22.334Z"
   },
   {
    "duration": 23,
    "start_time": "2023-01-23T10:12:34.751Z"
   },
   {
    "duration": 185,
    "start_time": "2023-01-23T10:12:35.526Z"
   },
   {
    "duration": 13,
    "start_time": "2023-01-23T10:12:36.031Z"
   },
   {
    "duration": 7,
    "start_time": "2023-01-23T10:12:36.918Z"
   },
   {
    "duration": 8,
    "start_time": "2023-01-23T10:12:37.639Z"
   },
   {
    "duration": 5,
    "start_time": "2023-01-23T10:12:38.265Z"
   },
   {
    "duration": 9,
    "start_time": "2023-01-23T10:12:39.392Z"
   },
   {
    "duration": 7,
    "start_time": "2023-01-23T10:12:39.606Z"
   },
   {
    "duration": 6,
    "start_time": "2023-01-23T10:12:39.776Z"
   },
   {
    "duration": 283,
    "start_time": "2023-01-23T10:13:33.021Z"
   },
   {
    "duration": 20,
    "start_time": "2023-01-23T10:13:48.632Z"
   },
   {
    "duration": 195,
    "start_time": "2023-01-23T10:13:49.623Z"
   },
   {
    "duration": 11,
    "start_time": "2023-01-23T10:13:50.455Z"
   },
   {
    "duration": 15,
    "start_time": "2023-01-23T10:13:52.327Z"
   },
   {
    "duration": 9,
    "start_time": "2023-01-23T10:13:53.877Z"
   },
   {
    "duration": 5,
    "start_time": "2023-01-23T10:13:55.095Z"
   },
   {
    "duration": 7,
    "start_time": "2023-01-23T10:13:57.375Z"
   },
   {
    "duration": 6,
    "start_time": "2023-01-23T10:13:57.977Z"
   },
   {
    "duration": 6,
    "start_time": "2023-01-23T10:13:58.736Z"
   },
   {
    "duration": 16,
    "start_time": "2023-01-23T10:14:13.377Z"
   },
   {
    "duration": 190,
    "start_time": "2023-01-23T10:14:14.394Z"
   },
   {
    "duration": 11,
    "start_time": "2023-01-23T10:14:15.130Z"
   },
   {
    "duration": 6,
    "start_time": "2023-01-23T10:14:16.051Z"
   },
   {
    "duration": 6,
    "start_time": "2023-01-23T10:14:16.909Z"
   },
   {
    "duration": 4,
    "start_time": "2023-01-23T10:14:17.314Z"
   },
   {
    "duration": 7,
    "start_time": "2023-01-23T10:14:18.676Z"
   },
   {
    "duration": 21,
    "start_time": "2023-01-23T10:14:28.251Z"
   },
   {
    "duration": 240,
    "start_time": "2023-01-23T10:14:28.900Z"
   },
   {
    "duration": 12,
    "start_time": "2023-01-23T10:14:29.435Z"
   },
   {
    "duration": 7,
    "start_time": "2023-01-23T10:14:30.204Z"
   },
   {
    "duration": 7,
    "start_time": "2023-01-23T10:14:30.892Z"
   },
   {
    "duration": 3,
    "start_time": "2023-01-23T10:14:31.356Z"
   },
   {
    "duration": 25,
    "start_time": "2023-01-23T10:14:39.197Z"
   },
   {
    "duration": 181,
    "start_time": "2023-01-23T10:14:39.757Z"
   },
   {
    "duration": 10,
    "start_time": "2023-01-23T10:14:40.212Z"
   },
   {
    "duration": 6,
    "start_time": "2023-01-23T10:14:40.804Z"
   },
   {
    "duration": 7,
    "start_time": "2023-01-23T10:14:41.278Z"
   },
   {
    "duration": 4,
    "start_time": "2023-01-23T10:14:41.620Z"
   },
   {
    "duration": 8,
    "start_time": "2023-01-23T10:14:42.484Z"
   },
   {
    "duration": 6,
    "start_time": "2023-01-23T10:14:42.653Z"
   },
   {
    "duration": 6,
    "start_time": "2023-01-23T10:14:42.790Z"
   },
   {
    "duration": 43,
    "start_time": "2023-01-23T10:14:57.455Z"
   },
   {
    "duration": 168,
    "start_time": "2023-01-23T10:14:58.357Z"
   },
   {
    "duration": 11,
    "start_time": "2023-01-23T10:14:59.551Z"
   },
   {
    "duration": 6,
    "start_time": "2023-01-23T10:15:00.943Z"
   },
   {
    "duration": 10,
    "start_time": "2023-01-23T10:15:02.023Z"
   },
   {
    "duration": 4,
    "start_time": "2023-01-23T10:15:03.847Z"
   },
   {
    "duration": 825,
    "start_time": "2023-01-23T10:15:42.172Z"
   },
   {
    "duration": 1215,
    "start_time": "2023-01-23T10:16:05.111Z"
   },
   {
    "duration": 834,
    "start_time": "2023-01-23T10:16:20.737Z"
   },
   {
    "duration": 711,
    "start_time": "2023-01-23T10:17:08.886Z"
   },
   {
    "duration": 26,
    "start_time": "2023-01-23T10:17:38.241Z"
   },
   {
    "duration": 203,
    "start_time": "2023-01-23T10:17:39.517Z"
   },
   {
    "duration": 10,
    "start_time": "2023-01-23T10:17:40.321Z"
   },
   {
    "duration": 6,
    "start_time": "2023-01-23T10:17:41.137Z"
   },
   {
    "duration": 9,
    "start_time": "2023-01-23T10:17:42.427Z"
   },
   {
    "duration": 4,
    "start_time": "2023-01-23T10:17:43.915Z"
   },
   {
    "duration": 906,
    "start_time": "2023-01-23T10:18:08.379Z"
   },
   {
    "duration": 21,
    "start_time": "2023-01-23T10:18:16.556Z"
   },
   {
    "duration": 174,
    "start_time": "2023-01-23T10:18:18.293Z"
   },
   {
    "duration": 10,
    "start_time": "2023-01-23T10:18:19.102Z"
   },
   {
    "duration": 7,
    "start_time": "2023-01-23T10:18:20.197Z"
   },
   {
    "duration": 8,
    "start_time": "2023-01-23T10:18:21.119Z"
   },
   {
    "duration": 4,
    "start_time": "2023-01-23T10:18:21.733Z"
   },
   {
    "duration": 8,
    "start_time": "2023-01-23T10:18:23.268Z"
   },
   {
    "duration": 7,
    "start_time": "2023-01-23T10:18:23.581Z"
   },
   {
    "duration": 7,
    "start_time": "2023-01-23T10:18:23.885Z"
   },
   {
    "duration": 8,
    "start_time": "2023-01-23T10:19:38.838Z"
   },
   {
    "duration": 8,
    "start_time": "2023-01-23T10:19:39.173Z"
   },
   {
    "duration": 7,
    "start_time": "2023-01-23T10:19:39.518Z"
   },
   {
    "duration": 4,
    "start_time": "2023-01-23T10:21:55.551Z"
   },
   {
    "duration": 469,
    "start_time": "2023-01-23T10:22:25.007Z"
   },
   {
    "duration": 13,
    "start_time": "2023-01-23T10:22:25.479Z"
   },
   {
    "duration": 19,
    "start_time": "2023-01-23T10:22:25.494Z"
   },
   {
    "duration": 752,
    "start_time": "2023-01-23T10:22:25.516Z"
   },
   {
    "duration": 52,
    "start_time": "2023-01-23T10:22:26.272Z"
   },
   {
    "duration": 988,
    "start_time": "2023-01-23T10:22:26.326Z"
   },
   {
    "duration": 27,
    "start_time": "2023-01-23T10:22:27.316Z"
   },
   {
    "duration": 208,
    "start_time": "2023-01-23T10:22:27.344Z"
   },
   {
    "duration": 10,
    "start_time": "2023-01-23T10:22:27.554Z"
   },
   {
    "duration": 18,
    "start_time": "2023-01-23T10:22:27.566Z"
   },
   {
    "duration": 23,
    "start_time": "2023-01-23T10:22:27.586Z"
   },
   {
    "duration": 9,
    "start_time": "2023-01-23T10:22:27.611Z"
   },
   {
    "duration": 12,
    "start_time": "2023-01-23T10:22:27.621Z"
   },
   {
    "duration": 7,
    "start_time": "2023-01-23T10:22:27.639Z"
   },
   {
    "duration": 13,
    "start_time": "2023-01-23T10:22:27.648Z"
   },
   {
    "duration": 10,
    "start_time": "2023-01-23T10:22:27.663Z"
   },
   {
    "duration": 43,
    "start_time": "2023-01-23T10:23:12.854Z"
   },
   {
    "duration": 193,
    "start_time": "2023-01-23T10:23:13.614Z"
   },
   {
    "duration": 10,
    "start_time": "2023-01-23T10:23:14.222Z"
   },
   {
    "duration": 6,
    "start_time": "2023-01-23T10:23:15.142Z"
   },
   {
    "duration": 10,
    "start_time": "2023-01-23T10:23:15.990Z"
   },
   {
    "duration": 3,
    "start_time": "2023-01-23T10:23:16.934Z"
   },
   {
    "duration": 11,
    "start_time": "2023-01-23T10:23:18.254Z"
   },
   {
    "duration": 7,
    "start_time": "2023-01-23T10:23:18.414Z"
   },
   {
    "duration": 7,
    "start_time": "2023-01-23T10:23:18.670Z"
   },
   {
    "duration": 5,
    "start_time": "2023-01-23T10:23:18.846Z"
   },
   {
    "duration": 20,
    "start_time": "2023-01-23T10:24:17.856Z"
   },
   {
    "duration": 467,
    "start_time": "2023-01-23T10:24:24.832Z"
   },
   {
    "duration": 13,
    "start_time": "2023-01-23T10:24:25.302Z"
   },
   {
    "duration": 24,
    "start_time": "2023-01-23T10:24:25.316Z"
   },
   {
    "duration": 691,
    "start_time": "2023-01-23T10:24:25.342Z"
   },
   {
    "duration": 47,
    "start_time": "2023-01-23T10:24:26.034Z"
   },
   {
    "duration": 887,
    "start_time": "2023-01-23T10:24:26.083Z"
   },
   {
    "duration": 19,
    "start_time": "2023-01-23T10:24:26.972Z"
   },
   {
    "duration": 216,
    "start_time": "2023-01-23T10:24:26.992Z"
   },
   {
    "duration": 14,
    "start_time": "2023-01-23T10:24:27.209Z"
   },
   {
    "duration": 8,
    "start_time": "2023-01-23T10:24:27.239Z"
   },
   {
    "duration": 8,
    "start_time": "2023-01-23T10:24:27.249Z"
   },
   {
    "duration": 5,
    "start_time": "2023-01-23T10:24:27.259Z"
   },
   {
    "duration": 13,
    "start_time": "2023-01-23T10:24:27.266Z"
   },
   {
    "duration": 9,
    "start_time": "2023-01-23T10:24:27.281Z"
   },
   {
    "duration": 8,
    "start_time": "2023-01-23T10:24:27.292Z"
   },
   {
    "duration": 11,
    "start_time": "2023-01-23T10:24:27.302Z"
   },
   {
    "duration": 79,
    "start_time": "2023-01-23T10:27:30.906Z"
   },
   {
    "duration": 7,
    "start_time": "2023-01-23T10:28:26.597Z"
   },
   {
    "duration": 7,
    "start_time": "2023-01-23T10:28:51.915Z"
   },
   {
    "duration": 870,
    "start_time": "2023-01-23T10:32:28.075Z"
   },
   {
    "duration": 88,
    "start_time": "2023-01-23T10:34:57.301Z"
   },
   {
    "duration": 413,
    "start_time": "2023-01-23T10:35:18.476Z"
   },
   {
    "duration": 13,
    "start_time": "2023-01-23T10:35:18.891Z"
   },
   {
    "duration": 44,
    "start_time": "2023-01-23T10:35:18.906Z"
   },
   {
    "duration": 803,
    "start_time": "2023-01-23T10:35:18.952Z"
   },
   {
    "duration": 44,
    "start_time": "2023-01-23T10:35:19.757Z"
   },
   {
    "duration": 924,
    "start_time": "2023-01-23T10:35:19.803Z"
   },
   {
    "duration": 30,
    "start_time": "2023-01-23T10:35:20.728Z"
   },
   {
    "duration": 203,
    "start_time": "2023-01-23T10:35:20.760Z"
   },
   {
    "duration": 10,
    "start_time": "2023-01-23T10:35:20.964Z"
   },
   {
    "duration": 41,
    "start_time": "2023-01-23T10:35:20.975Z"
   },
   {
    "duration": 42,
    "start_time": "2023-01-23T10:35:21.018Z"
   },
   {
    "duration": 12,
    "start_time": "2023-01-23T10:35:21.062Z"
   },
   {
    "duration": 43,
    "start_time": "2023-01-23T10:35:21.075Z"
   },
   {
    "duration": 32,
    "start_time": "2023-01-23T10:35:21.121Z"
   },
   {
    "duration": 25,
    "start_time": "2023-01-23T10:35:21.155Z"
   },
   {
    "duration": 35,
    "start_time": "2023-01-23T10:35:21.182Z"
   },
   {
    "duration": 538,
    "start_time": "2023-01-23T10:53:42.555Z"
   },
   {
    "duration": 11,
    "start_time": "2023-01-23T10:53:43.095Z"
   },
   {
    "duration": 34,
    "start_time": "2023-01-23T10:53:43.108Z"
   },
   {
    "duration": 1170,
    "start_time": "2023-01-23T10:53:43.143Z"
   },
   {
    "duration": 51,
    "start_time": "2023-01-23T10:53:44.317Z"
   },
   {
    "duration": 836,
    "start_time": "2023-01-23T10:53:44.370Z"
   },
   {
    "duration": 16,
    "start_time": "2023-01-23T10:53:45.208Z"
   },
   {
    "duration": 181,
    "start_time": "2023-01-23T10:53:45.225Z"
   },
   {
    "duration": 8,
    "start_time": "2023-01-23T10:53:45.408Z"
   },
   {
    "duration": 33,
    "start_time": "2023-01-23T10:53:45.417Z"
   },
   {
    "duration": 26,
    "start_time": "2023-01-23T10:53:45.451Z"
   },
   {
    "duration": 15,
    "start_time": "2023-01-23T10:53:45.479Z"
   },
   {
    "duration": 26,
    "start_time": "2023-01-23T10:53:45.497Z"
   },
   {
    "duration": 22,
    "start_time": "2023-01-23T10:53:45.525Z"
   },
   {
    "duration": 16,
    "start_time": "2023-01-23T10:53:45.548Z"
   },
   {
    "duration": 23,
    "start_time": "2023-01-23T10:53:45.565Z"
   },
   {
    "duration": 417,
    "start_time": "2023-01-23T15:22:35.990Z"
   },
   {
    "duration": 13,
    "start_time": "2023-01-23T15:22:36.409Z"
   },
   {
    "duration": 35,
    "start_time": "2023-01-23T15:22:36.424Z"
   },
   {
    "duration": 1364,
    "start_time": "2023-01-23T15:22:36.468Z"
   },
   {
    "duration": 65,
    "start_time": "2023-01-23T15:22:37.834Z"
   },
   {
    "duration": 1054,
    "start_time": "2023-01-23T15:22:37.901Z"
   },
   {
    "duration": 25,
    "start_time": "2023-01-23T15:22:38.964Z"
   },
   {
    "duration": 250,
    "start_time": "2023-01-23T15:22:38.991Z"
   },
   {
    "duration": 10,
    "start_time": "2023-01-23T15:22:39.243Z"
   },
   {
    "duration": 52,
    "start_time": "2023-01-23T15:22:39.262Z"
   },
   {
    "duration": 30,
    "start_time": "2023-01-23T15:22:39.316Z"
   },
   {
    "duration": 44,
    "start_time": "2023-01-23T15:22:39.356Z"
   },
   {
    "duration": 46,
    "start_time": "2023-01-23T15:22:39.402Z"
   },
   {
    "duration": 45,
    "start_time": "2023-01-23T15:22:39.450Z"
   },
   {
    "duration": 18,
    "start_time": "2023-01-23T15:22:39.497Z"
   },
   {
    "duration": 50,
    "start_time": "2023-01-23T15:22:39.517Z"
   },
   {
    "duration": 5,
    "start_time": "2023-01-23T15:23:21.277Z"
   },
   {
    "duration": 4,
    "start_time": "2023-01-23T15:23:27.880Z"
   },
   {
    "duration": 44,
    "start_time": "2023-01-24T08:19:29.156Z"
   },
   {
    "duration": 540,
    "start_time": "2023-01-24T08:19:36.127Z"
   },
   {
    "duration": 15,
    "start_time": "2023-01-24T08:19:36.671Z"
   },
   {
    "duration": 22,
    "start_time": "2023-01-24T08:19:36.688Z"
   },
   {
    "duration": 680,
    "start_time": "2023-01-24T08:19:36.712Z"
   },
   {
    "duration": 4,
    "start_time": "2023-01-24T08:19:37.393Z"
   },
   {
    "duration": 52,
    "start_time": "2023-01-24T08:19:37.399Z"
   },
   {
    "duration": 829,
    "start_time": "2023-01-24T08:19:37.453Z"
   },
   {
    "duration": 18,
    "start_time": "2023-01-24T08:19:38.284Z"
   },
   {
    "duration": 194,
    "start_time": "2023-01-24T08:19:38.303Z"
   },
   {
    "duration": 8,
    "start_time": "2023-01-24T08:19:38.499Z"
   },
   {
    "duration": 11,
    "start_time": "2023-01-24T08:19:38.509Z"
   },
   {
    "duration": 15,
    "start_time": "2023-01-24T08:19:38.521Z"
   },
   {
    "duration": 6,
    "start_time": "2023-01-24T08:19:38.538Z"
   },
   {
    "duration": 12,
    "start_time": "2023-01-24T08:19:38.546Z"
   },
   {
    "duration": 26,
    "start_time": "2023-01-24T08:19:38.560Z"
   },
   {
    "duration": 10,
    "start_time": "2023-01-24T08:19:38.587Z"
   },
   {
    "duration": 6,
    "start_time": "2023-01-24T08:19:38.599Z"
   },
   {
    "duration": 51,
    "start_time": "2023-01-24T08:22:34.693Z"
   },
   {
    "duration": 104,
    "start_time": "2023-01-24T08:32:46.262Z"
   },
   {
    "duration": 544,
    "start_time": "2023-01-24T08:32:59.283Z"
   },
   {
    "duration": 18,
    "start_time": "2023-01-24T08:32:59.830Z"
   },
   {
    "duration": 48,
    "start_time": "2023-01-24T08:32:59.850Z"
   },
   {
    "duration": 767,
    "start_time": "2023-01-24T08:32:59.901Z"
   },
   {
    "duration": 0,
    "start_time": "2023-01-24T08:33:00.670Z"
   },
   {
    "duration": 0,
    "start_time": "2023-01-24T08:33:00.672Z"
   },
   {
    "duration": 0,
    "start_time": "2023-01-24T08:33:00.673Z"
   },
   {
    "duration": 0,
    "start_time": "2023-01-24T08:33:00.674Z"
   },
   {
    "duration": 1,
    "start_time": "2023-01-24T08:33:00.675Z"
   },
   {
    "duration": 0,
    "start_time": "2023-01-24T08:33:00.677Z"
   },
   {
    "duration": 0,
    "start_time": "2023-01-24T08:33:00.678Z"
   },
   {
    "duration": 0,
    "start_time": "2023-01-24T08:33:00.681Z"
   },
   {
    "duration": 0,
    "start_time": "2023-01-24T08:33:00.682Z"
   },
   {
    "duration": 0,
    "start_time": "2023-01-24T08:33:00.684Z"
   },
   {
    "duration": 0,
    "start_time": "2023-01-24T08:33:00.685Z"
   },
   {
    "duration": 0,
    "start_time": "2023-01-24T08:33:00.686Z"
   },
   {
    "duration": 0,
    "start_time": "2023-01-24T08:33:00.689Z"
   },
   {
    "duration": 31,
    "start_time": "2023-01-24T08:34:16.679Z"
   },
   {
    "duration": 411,
    "start_time": "2023-01-24T08:34:23.592Z"
   },
   {
    "duration": 13,
    "start_time": "2023-01-24T08:34:24.006Z"
   },
   {
    "duration": 37,
    "start_time": "2023-01-24T08:34:24.024Z"
   },
   {
    "duration": 748,
    "start_time": "2023-01-24T08:34:24.064Z"
   },
   {
    "duration": 0,
    "start_time": "2023-01-24T08:34:24.815Z"
   },
   {
    "duration": 0,
    "start_time": "2023-01-24T08:34:24.816Z"
   },
   {
    "duration": 0,
    "start_time": "2023-01-24T08:34:24.817Z"
   },
   {
    "duration": 0,
    "start_time": "2023-01-24T08:34:24.818Z"
   },
   {
    "duration": 0,
    "start_time": "2023-01-24T08:34:24.819Z"
   },
   {
    "duration": 0,
    "start_time": "2023-01-24T08:34:24.820Z"
   },
   {
    "duration": 0,
    "start_time": "2023-01-24T08:34:24.821Z"
   },
   {
    "duration": 0,
    "start_time": "2023-01-24T08:34:24.822Z"
   },
   {
    "duration": 0,
    "start_time": "2023-01-24T08:34:24.823Z"
   },
   {
    "duration": 0,
    "start_time": "2023-01-24T08:34:24.824Z"
   },
   {
    "duration": 0,
    "start_time": "2023-01-24T08:34:24.825Z"
   },
   {
    "duration": 0,
    "start_time": "2023-01-24T08:34:24.826Z"
   },
   {
    "duration": 0,
    "start_time": "2023-01-24T08:34:24.827Z"
   },
   {
    "duration": 16,
    "start_time": "2023-01-24T08:34:47.134Z"
   },
   {
    "duration": 26,
    "start_time": "2023-01-24T08:34:59.214Z"
   },
   {
    "duration": 403,
    "start_time": "2023-01-24T08:35:42.829Z"
   },
   {
    "duration": 12,
    "start_time": "2023-01-24T08:35:43.234Z"
   },
   {
    "duration": 23,
    "start_time": "2023-01-24T08:35:43.248Z"
   },
   {
    "duration": 1215,
    "start_time": "2023-01-24T08:35:43.274Z"
   },
   {
    "duration": 0,
    "start_time": "2023-01-24T08:35:44.492Z"
   },
   {
    "duration": 0,
    "start_time": "2023-01-24T08:35:44.493Z"
   },
   {
    "duration": 0,
    "start_time": "2023-01-24T08:35:44.494Z"
   },
   {
    "duration": 0,
    "start_time": "2023-01-24T08:35:44.495Z"
   },
   {
    "duration": 0,
    "start_time": "2023-01-24T08:35:44.497Z"
   },
   {
    "duration": 0,
    "start_time": "2023-01-24T08:35:44.498Z"
   },
   {
    "duration": 0,
    "start_time": "2023-01-24T08:35:44.499Z"
   },
   {
    "duration": 0,
    "start_time": "2023-01-24T08:35:44.501Z"
   },
   {
    "duration": 0,
    "start_time": "2023-01-24T08:35:44.502Z"
   },
   {
    "duration": 0,
    "start_time": "2023-01-24T08:35:44.504Z"
   },
   {
    "duration": 0,
    "start_time": "2023-01-24T08:35:44.505Z"
   },
   {
    "duration": 0,
    "start_time": "2023-01-24T08:35:44.506Z"
   },
   {
    "duration": 0,
    "start_time": "2023-01-24T08:35:44.508Z"
   },
   {
    "duration": 27,
    "start_time": "2023-01-24T08:39:00.880Z"
   },
   {
    "duration": 404,
    "start_time": "2023-01-24T08:39:07.835Z"
   },
   {
    "duration": 15,
    "start_time": "2023-01-24T08:39:08.241Z"
   },
   {
    "duration": 34,
    "start_time": "2023-01-24T08:39:08.257Z"
   },
   {
    "duration": 792,
    "start_time": "2023-01-24T08:39:08.293Z"
   },
   {
    "duration": 0,
    "start_time": "2023-01-24T08:39:09.087Z"
   },
   {
    "duration": 0,
    "start_time": "2023-01-24T08:39:09.088Z"
   },
   {
    "duration": 0,
    "start_time": "2023-01-24T08:39:09.089Z"
   },
   {
    "duration": 0,
    "start_time": "2023-01-24T08:39:09.091Z"
   },
   {
    "duration": 0,
    "start_time": "2023-01-24T08:39:09.092Z"
   },
   {
    "duration": 0,
    "start_time": "2023-01-24T08:39:09.093Z"
   },
   {
    "duration": 0,
    "start_time": "2023-01-24T08:39:09.094Z"
   },
   {
    "duration": 0,
    "start_time": "2023-01-24T08:39:09.096Z"
   },
   {
    "duration": 0,
    "start_time": "2023-01-24T08:39:09.097Z"
   },
   {
    "duration": 0,
    "start_time": "2023-01-24T08:39:09.098Z"
   },
   {
    "duration": 0,
    "start_time": "2023-01-24T08:39:09.100Z"
   },
   {
    "duration": 0,
    "start_time": "2023-01-24T08:39:09.103Z"
   },
   {
    "duration": 0,
    "start_time": "2023-01-24T08:39:09.104Z"
   },
   {
    "duration": 413,
    "start_time": "2023-01-24T08:39:48.900Z"
   },
   {
    "duration": 11,
    "start_time": "2023-01-24T08:39:49.315Z"
   },
   {
    "duration": 18,
    "start_time": "2023-01-24T08:39:49.328Z"
   },
   {
    "duration": 684,
    "start_time": "2023-01-24T08:39:49.348Z"
   },
   {
    "duration": 4,
    "start_time": "2023-01-24T08:39:50.034Z"
   },
   {
    "duration": 56,
    "start_time": "2023-01-24T08:39:50.039Z"
   },
   {
    "duration": 855,
    "start_time": "2023-01-24T08:39:50.097Z"
   },
   {
    "duration": 30,
    "start_time": "2023-01-24T08:39:50.954Z"
   },
   {
    "duration": 186,
    "start_time": "2023-01-24T08:39:50.986Z"
   },
   {
    "duration": 9,
    "start_time": "2023-01-24T08:39:51.181Z"
   },
   {
    "duration": 11,
    "start_time": "2023-01-24T08:39:51.191Z"
   },
   {
    "duration": 10,
    "start_time": "2023-01-24T08:39:51.204Z"
   },
   {
    "duration": 4,
    "start_time": "2023-01-24T08:39:51.216Z"
   },
   {
    "duration": 13,
    "start_time": "2023-01-24T08:39:51.222Z"
   },
   {
    "duration": 17,
    "start_time": "2023-01-24T08:39:51.236Z"
   },
   {
    "duration": 16,
    "start_time": "2023-01-24T08:39:51.255Z"
   },
   {
    "duration": 4,
    "start_time": "2023-01-24T08:39:51.282Z"
   },
   {
    "duration": 49,
    "start_time": "2023-01-24T08:41:51.175Z"
   },
   {
    "duration": 55,
    "start_time": "2023-01-24T08:42:20.970Z"
   },
   {
    "duration": 107,
    "start_time": "2023-01-24T08:42:27.570Z"
   },
   {
    "duration": 1108,
    "start_time": "2023-01-24T08:44:47.280Z"
   },
   {
    "duration": 31,
    "start_time": "2023-01-24T08:44:48.390Z"
   },
   {
    "duration": 12,
    "start_time": "2023-01-24T08:44:48.423Z"
   },
   {
    "duration": 34,
    "start_time": "2023-01-24T08:44:48.437Z"
   },
   {
    "duration": 23,
    "start_time": "2023-01-24T08:44:48.473Z"
   },
   {
    "duration": 20,
    "start_time": "2023-01-24T08:44:48.498Z"
   },
   {
    "duration": 45,
    "start_time": "2023-01-24T08:44:48.520Z"
   },
   {
    "duration": 841,
    "start_time": "2023-01-24T08:44:48.567Z"
   },
   {
    "duration": 19,
    "start_time": "2023-01-24T08:44:49.410Z"
   },
   {
    "duration": 212,
    "start_time": "2023-01-24T08:44:49.431Z"
   },
   {
    "duration": 10,
    "start_time": "2023-01-24T08:44:49.644Z"
   },
   {
    "duration": 7,
    "start_time": "2023-01-24T08:44:49.656Z"
   },
   {
    "duration": 8,
    "start_time": "2023-01-24T08:44:49.682Z"
   },
   {
    "duration": 3,
    "start_time": "2023-01-24T08:44:49.694Z"
   },
   {
    "duration": 13,
    "start_time": "2023-01-24T08:44:49.699Z"
   },
   {
    "duration": 8,
    "start_time": "2023-01-24T08:44:49.714Z"
   },
   {
    "duration": 10,
    "start_time": "2023-01-24T08:44:49.724Z"
   },
   {
    "duration": 5,
    "start_time": "2023-01-24T08:44:49.736Z"
   },
   {
    "duration": 50,
    "start_time": "2023-01-24T08:45:27.953Z"
   },
   {
    "duration": 780,
    "start_time": "2023-01-24T08:54:16.689Z"
   },
   {
    "duration": 782,
    "start_time": "2023-01-24T08:54:48.317Z"
   },
   {
    "duration": 1913,
    "start_time": "2023-01-24T08:55:09.537Z"
   },
   {
    "duration": 1817,
    "start_time": "2023-01-24T08:55:30.312Z"
   },
   {
    "duration": 33,
    "start_time": "2023-01-24T08:55:34.712Z"
   },
   {
    "duration": 25,
    "start_time": "2023-01-24T08:56:42.497Z"
   },
   {
    "duration": 169,
    "start_time": "2023-01-24T08:57:32.808Z"
   },
   {
    "duration": 10,
    "start_time": "2023-01-24T08:58:17.888Z"
   },
   {
    "duration": 8,
    "start_time": "2023-01-24T08:59:15.744Z"
   },
   {
    "duration": 6,
    "start_time": "2023-01-24T08:59:24.464Z"
   },
   {
    "duration": 8,
    "start_time": "2023-01-24T08:59:27.816Z"
   },
   {
    "duration": 4,
    "start_time": "2023-01-24T08:59:29.439Z"
   },
   {
    "duration": 2,
    "start_time": "2023-01-24T09:00:56.769Z"
   },
   {
    "duration": 1150,
    "start_time": "2023-01-24T09:01:37.657Z"
   },
   {
    "duration": 31,
    "start_time": "2023-01-24T09:01:38.810Z"
   },
   {
    "duration": 13,
    "start_time": "2023-01-24T09:01:38.843Z"
   },
   {
    "duration": 24,
    "start_time": "2023-01-24T09:01:38.858Z"
   },
   {
    "duration": 9,
    "start_time": "2023-01-24T09:01:38.885Z"
   },
   {
    "duration": 7,
    "start_time": "2023-01-24T09:01:38.896Z"
   },
   {
    "duration": 27,
    "start_time": "2023-01-24T09:01:38.904Z"
   },
   {
    "duration": 2,
    "start_time": "2023-01-24T09:01:38.933Z"
   },
   {
    "duration": 1904,
    "start_time": "2023-01-24T09:01:38.937Z"
   },
   {
    "duration": 50,
    "start_time": "2023-01-24T09:01:40.843Z"
   },
   {
    "duration": 188,
    "start_time": "2023-01-24T09:01:40.895Z"
   },
   {
    "duration": 10,
    "start_time": "2023-01-24T09:01:41.086Z"
   },
   {
    "duration": 12,
    "start_time": "2023-01-24T09:01:41.097Z"
   },
   {
    "duration": 9,
    "start_time": "2023-01-24T09:01:41.112Z"
   },
   {
    "duration": 14,
    "start_time": "2023-01-24T09:01:41.122Z"
   },
   {
    "duration": 19,
    "start_time": "2023-01-24T09:01:41.138Z"
   },
   {
    "duration": 28,
    "start_time": "2023-01-24T09:01:41.159Z"
   },
   {
    "duration": 21,
    "start_time": "2023-01-24T09:01:41.188Z"
   },
   {
    "duration": 33,
    "start_time": "2023-01-24T09:01:41.211Z"
   },
   {
    "duration": 9,
    "start_time": "2023-01-24T09:04:18.266Z"
   },
   {
    "duration": 55,
    "start_time": "2023-01-24T09:24:31.491Z"
   },
   {
    "duration": 50,
    "start_time": "2023-01-24T09:24:35.770Z"
   },
   {
    "duration": 42,
    "start_time": "2023-01-24T09:39:11.132Z"
   },
   {
    "duration": 94,
    "start_time": "2023-01-24T09:53:31.624Z"
   },
   {
    "duration": 1042,
    "start_time": "2023-01-24T09:53:38.435Z"
   },
   {
    "duration": 30,
    "start_time": "2023-01-24T09:53:39.479Z"
   },
   {
    "duration": 12,
    "start_time": "2023-01-24T09:53:39.511Z"
   },
   {
    "duration": 18,
    "start_time": "2023-01-24T09:53:39.524Z"
   },
   {
    "duration": 11,
    "start_time": "2023-01-24T09:53:39.544Z"
   },
   {
    "duration": 3,
    "start_time": "2023-01-24T09:53:39.557Z"
   },
   {
    "duration": 39,
    "start_time": "2023-01-24T09:53:39.562Z"
   },
   {
    "duration": 3,
    "start_time": "2023-01-24T09:53:39.603Z"
   },
   {
    "duration": 1811,
    "start_time": "2023-01-24T09:53:39.607Z"
   },
   {
    "duration": 32,
    "start_time": "2023-01-24T09:53:41.420Z"
   },
   {
    "duration": 192,
    "start_time": "2023-01-24T09:53:41.454Z"
   },
   {
    "duration": 8,
    "start_time": "2023-01-24T09:53:41.648Z"
   },
   {
    "duration": 6,
    "start_time": "2023-01-24T09:53:41.657Z"
   },
   {
    "duration": 19,
    "start_time": "2023-01-24T09:53:41.665Z"
   },
   {
    "duration": 2,
    "start_time": "2023-01-24T09:53:41.685Z"
   },
   {
    "duration": 8,
    "start_time": "2023-01-24T09:53:41.688Z"
   },
   {
    "duration": 9,
    "start_time": "2023-01-24T09:53:41.697Z"
   },
   {
    "duration": 6,
    "start_time": "2023-01-24T09:53:41.707Z"
   },
   {
    "duration": 9,
    "start_time": "2023-01-24T09:53:41.715Z"
   },
   {
    "duration": 14,
    "start_time": "2023-01-24T09:53:41.726Z"
   },
   {
    "duration": 63,
    "start_time": "2023-01-24T09:56:14.547Z"
   },
   {
    "duration": 50,
    "start_time": "2023-01-24T09:59:32.113Z"
   },
   {
    "duration": 1137,
    "start_time": "2023-01-24T10:02:23.175Z"
   },
   {
    "duration": 31,
    "start_time": "2023-01-24T10:02:24.314Z"
   },
   {
    "duration": 12,
    "start_time": "2023-01-24T10:02:24.346Z"
   },
   {
    "duration": 18,
    "start_time": "2023-01-24T10:02:24.360Z"
   },
   {
    "duration": 12,
    "start_time": "2023-01-24T10:02:24.379Z"
   },
   {
    "duration": 19,
    "start_time": "2023-01-24T10:02:24.393Z"
   },
   {
    "duration": 57,
    "start_time": "2023-01-24T10:02:24.415Z"
   },
   {
    "duration": 68,
    "start_time": "2023-01-24T10:02:24.474Z"
   },
   {
    "duration": 1951,
    "start_time": "2023-01-24T10:02:24.544Z"
   },
   {
    "duration": 39,
    "start_time": "2023-01-24T10:02:26.497Z"
   },
   {
    "duration": 236,
    "start_time": "2023-01-24T10:02:26.538Z"
   },
   {
    "duration": 12,
    "start_time": "2023-01-24T10:02:26.781Z"
   },
   {
    "duration": 14,
    "start_time": "2023-01-24T10:02:26.795Z"
   },
   {
    "duration": 32,
    "start_time": "2023-01-24T10:02:26.811Z"
   },
   {
    "duration": 14,
    "start_time": "2023-01-24T10:02:26.845Z"
   },
   {
    "duration": 34,
    "start_time": "2023-01-24T10:02:26.861Z"
   },
   {
    "duration": 8,
    "start_time": "2023-01-24T10:02:26.897Z"
   },
   {
    "duration": 14,
    "start_time": "2023-01-24T10:02:26.907Z"
   },
   {
    "duration": 10,
    "start_time": "2023-01-24T10:02:26.923Z"
   },
   {
    "duration": 33,
    "start_time": "2023-01-24T10:02:26.935Z"
   },
   {
    "duration": 1037,
    "start_time": "2023-01-24T10:02:42.328Z"
   },
   {
    "duration": 31,
    "start_time": "2023-01-24T10:02:43.367Z"
   },
   {
    "duration": 11,
    "start_time": "2023-01-24T10:02:43.400Z"
   },
   {
    "duration": 20,
    "start_time": "2023-01-24T10:02:43.413Z"
   },
   {
    "duration": 10,
    "start_time": "2023-01-24T10:02:43.435Z"
   },
   {
    "duration": 5,
    "start_time": "2023-01-24T10:02:43.446Z"
   },
   {
    "duration": 37,
    "start_time": "2023-01-24T10:02:43.452Z"
   },
   {
    "duration": 3,
    "start_time": "2023-01-24T10:02:43.491Z"
   },
   {
    "duration": 1831,
    "start_time": "2023-01-24T10:02:43.496Z"
   },
   {
    "duration": 33,
    "start_time": "2023-01-24T10:02:45.331Z"
   },
   {
    "duration": 192,
    "start_time": "2023-01-24T10:02:45.381Z"
   },
   {
    "duration": 11,
    "start_time": "2023-01-24T10:02:45.583Z"
   },
   {
    "duration": 10,
    "start_time": "2023-01-24T10:02:45.595Z"
   },
   {
    "duration": 12,
    "start_time": "2023-01-24T10:02:45.607Z"
   },
   {
    "duration": 3,
    "start_time": "2023-01-24T10:02:45.620Z"
   },
   {
    "duration": 8,
    "start_time": "2023-01-24T10:02:45.624Z"
   },
   {
    "duration": 3,
    "start_time": "2023-01-24T10:02:45.634Z"
   },
   {
    "duration": 7,
    "start_time": "2023-01-24T10:02:45.639Z"
   },
   {
    "duration": 8,
    "start_time": "2023-01-24T10:02:45.648Z"
   },
   {
    "duration": 23,
    "start_time": "2023-01-24T10:02:45.658Z"
   },
   {
    "duration": 56,
    "start_time": "2023-01-24T10:04:28.019Z"
   },
   {
    "duration": 1123,
    "start_time": "2023-01-24T10:04:48.002Z"
   },
   {
    "duration": 30,
    "start_time": "2023-01-24T10:04:49.127Z"
   },
   {
    "duration": 11,
    "start_time": "2023-01-24T10:04:49.159Z"
   },
   {
    "duration": 18,
    "start_time": "2023-01-24T10:04:49.172Z"
   },
   {
    "duration": 10,
    "start_time": "2023-01-24T10:04:49.192Z"
   },
   {
    "duration": 4,
    "start_time": "2023-01-24T10:04:49.204Z"
   },
   {
    "duration": 26,
    "start_time": "2023-01-24T10:04:49.209Z"
   },
   {
    "duration": 3,
    "start_time": "2023-01-24T10:04:49.236Z"
   },
   {
    "duration": 1956,
    "start_time": "2023-01-24T10:04:49.241Z"
   },
   {
    "duration": 33,
    "start_time": "2023-01-24T10:04:51.199Z"
   },
   {
    "duration": 181,
    "start_time": "2023-01-24T10:04:51.233Z"
   },
   {
    "duration": 10,
    "start_time": "2023-01-24T10:04:51.415Z"
   },
   {
    "duration": 23,
    "start_time": "2023-01-24T10:04:51.426Z"
   },
   {
    "duration": 13,
    "start_time": "2023-01-24T10:04:51.451Z"
   },
   {
    "duration": 5,
    "start_time": "2023-01-24T10:04:51.466Z"
   },
   {
    "duration": 15,
    "start_time": "2023-01-24T10:04:51.472Z"
   },
   {
    "duration": 12,
    "start_time": "2023-01-24T10:04:51.488Z"
   },
   {
    "duration": 16,
    "start_time": "2023-01-24T10:04:51.502Z"
   },
   {
    "duration": 16,
    "start_time": "2023-01-24T10:04:51.520Z"
   },
   {
    "duration": 9,
    "start_time": "2023-01-24T10:04:51.537Z"
   },
   {
    "duration": 51,
    "start_time": "2023-01-24T16:04:45.684Z"
   },
   {
    "duration": 1689,
    "start_time": "2023-01-24T16:04:52.588Z"
   },
   {
    "duration": 127,
    "start_time": "2023-01-24T16:04:54.279Z"
   },
   {
    "duration": 12,
    "start_time": "2023-01-24T16:04:54.408Z"
   },
   {
    "duration": 20,
    "start_time": "2023-01-24T16:04:54.422Z"
   },
   {
    "duration": 9,
    "start_time": "2023-01-24T16:04:54.444Z"
   },
   {
    "duration": 7,
    "start_time": "2023-01-24T16:04:54.454Z"
   },
   {
    "duration": 892,
    "start_time": "2023-01-24T16:04:54.462Z"
   },
   {
    "duration": 0,
    "start_time": "2023-01-24T16:04:55.357Z"
   },
   {
    "duration": 0,
    "start_time": "2023-01-24T16:04:55.358Z"
   },
   {
    "duration": 0,
    "start_time": "2023-01-24T16:04:55.361Z"
   },
   {
    "duration": 0,
    "start_time": "2023-01-24T16:04:55.363Z"
   },
   {
    "duration": 0,
    "start_time": "2023-01-24T16:04:55.364Z"
   },
   {
    "duration": 0,
    "start_time": "2023-01-24T16:04:55.365Z"
   },
   {
    "duration": 0,
    "start_time": "2023-01-24T16:04:55.367Z"
   },
   {
    "duration": 0,
    "start_time": "2023-01-24T16:04:55.368Z"
   },
   {
    "duration": 0,
    "start_time": "2023-01-24T16:04:55.369Z"
   },
   {
    "duration": 0,
    "start_time": "2023-01-24T16:04:55.372Z"
   },
   {
    "duration": 0,
    "start_time": "2023-01-24T16:04:55.374Z"
   },
   {
    "duration": 0,
    "start_time": "2023-01-24T16:04:55.376Z"
   },
   {
    "duration": 0,
    "start_time": "2023-01-24T16:04:55.377Z"
   },
   {
    "duration": 0,
    "start_time": "2023-01-24T16:04:55.378Z"
   },
   {
    "duration": 9,
    "start_time": "2023-01-24T16:05:05.932Z"
   },
   {
    "duration": 26,
    "start_time": "2023-01-24T16:05:07.129Z"
   },
   {
    "duration": 2,
    "start_time": "2023-01-24T16:05:07.996Z"
   },
   {
    "duration": 1816,
    "start_time": "2023-01-24T16:05:08.305Z"
   },
   {
    "duration": 33,
    "start_time": "2023-01-24T16:05:10.123Z"
   },
   {
    "duration": 186,
    "start_time": "2023-01-24T16:05:10.168Z"
   },
   {
    "duration": 18,
    "start_time": "2023-01-24T16:05:10.356Z"
   },
   {
    "duration": 2,
    "start_time": "2023-01-24T16:05:10.445Z"
   },
   {
    "duration": 7,
    "start_time": "2023-01-24T16:05:10.919Z"
   },
   {
    "duration": 2,
    "start_time": "2023-01-24T16:05:11.235Z"
   },
   {
    "duration": 7,
    "start_time": "2023-01-24T16:05:12.440Z"
   },
   {
    "duration": 2,
    "start_time": "2023-01-24T16:05:12.865Z"
   },
   {
    "duration": 3,
    "start_time": "2023-01-24T16:05:13.000Z"
   },
   {
    "duration": 2,
    "start_time": "2023-01-24T16:05:13.142Z"
   },
   {
    "duration": 2,
    "start_time": "2023-01-24T16:05:13.316Z"
   },
   {
    "duration": 83,
    "start_time": "2023-01-24T17:07:37.191Z"
   },
   {
    "duration": 71,
    "start_time": "2023-01-24T17:07:39.403Z"
   },
   {
    "duration": 70,
    "start_time": "2023-01-24T17:25:00.784Z"
   },
   {
    "duration": 84,
    "start_time": "2023-01-24T17:25:03.250Z"
   },
   {
    "duration": 44,
    "start_time": "2023-01-24T17:33:29.526Z"
   },
   {
    "duration": 1156,
    "start_time": "2023-01-24T17:33:36.010Z"
   },
   {
    "duration": 67,
    "start_time": "2023-01-24T17:33:37.168Z"
   },
   {
    "duration": 15,
    "start_time": "2023-01-24T17:33:37.237Z"
   },
   {
    "duration": 26,
    "start_time": "2023-01-24T17:33:37.254Z"
   },
   {
    "duration": 17,
    "start_time": "2023-01-24T17:33:37.282Z"
   },
   {
    "duration": 21,
    "start_time": "2023-01-24T17:33:37.301Z"
   },
   {
    "duration": 40,
    "start_time": "2023-01-24T17:33:37.324Z"
   },
   {
    "duration": 5,
    "start_time": "2023-01-24T17:33:37.366Z"
   },
   {
    "duration": 2085,
    "start_time": "2023-01-24T17:33:37.372Z"
   },
   {
    "duration": 33,
    "start_time": "2023-01-24T17:33:39.459Z"
   },
   {
    "duration": 233,
    "start_time": "2023-01-24T17:33:39.493Z"
   },
   {
    "duration": 12,
    "start_time": "2023-01-24T17:33:39.728Z"
   },
   {
    "duration": 92,
    "start_time": "2023-01-24T17:33:39.743Z"
   },
   {
    "duration": 60,
    "start_time": "2023-01-24T17:33:39.837Z"
   },
   {
    "duration": 66,
    "start_time": "2023-01-24T17:33:39.899Z"
   },
   {
    "duration": 174,
    "start_time": "2023-01-24T17:33:39.967Z"
   },
   {
    "duration": 0,
    "start_time": "2023-01-24T17:33:40.143Z"
   },
   {
    "duration": 0,
    "start_time": "2023-01-24T17:33:40.144Z"
   },
   {
    "duration": 0,
    "start_time": "2023-01-24T17:33:40.145Z"
   },
   {
    "duration": 0,
    "start_time": "2023-01-24T17:33:40.147Z"
   },
   {
    "duration": 6,
    "start_time": "2023-01-24T17:34:46.099Z"
   },
   {
    "duration": 11,
    "start_time": "2023-01-24T17:36:46.801Z"
   },
   {
    "duration": 13,
    "start_time": "2023-01-24T17:37:00.055Z"
   },
   {
    "duration": 6,
    "start_time": "2023-01-24T17:37:04.472Z"
   },
   {
    "duration": 7,
    "start_time": "2023-01-24T17:37:59.764Z"
   },
   {
    "duration": 9,
    "start_time": "2023-01-24T17:38:03.710Z"
   },
   {
    "duration": 6,
    "start_time": "2023-01-24T17:40:07.658Z"
   },
   {
    "duration": 78,
    "start_time": "2023-01-24T17:40:52.772Z"
   },
   {
    "duration": 1704,
    "start_time": "2023-01-24T19:46:11.175Z"
   },
   {
    "duration": 30,
    "start_time": "2023-01-24T19:46:12.881Z"
   },
   {
    "duration": 16,
    "start_time": "2023-01-24T19:46:12.913Z"
   },
   {
    "duration": 22,
    "start_time": "2023-01-24T19:46:12.932Z"
   },
   {
    "duration": 11,
    "start_time": "2023-01-24T19:46:12.956Z"
   },
   {
    "duration": 5,
    "start_time": "2023-01-24T19:46:12.969Z"
   },
   {
    "duration": 58,
    "start_time": "2023-01-24T19:46:12.975Z"
   },
   {
    "duration": 2,
    "start_time": "2023-01-24T19:46:13.035Z"
   },
   {
    "duration": 1925,
    "start_time": "2023-01-24T19:46:13.039Z"
   },
   {
    "duration": 39,
    "start_time": "2023-01-24T19:46:14.966Z"
   },
   {
    "duration": 181,
    "start_time": "2023-01-24T19:46:15.006Z"
   },
   {
    "duration": 15,
    "start_time": "2023-01-24T19:46:15.198Z"
   },
   {
    "duration": 6,
    "start_time": "2023-01-24T19:46:15.216Z"
   },
   {
    "duration": 14,
    "start_time": "2023-01-24T19:46:15.225Z"
   },
   {
    "duration": 6,
    "start_time": "2023-01-24T19:46:15.240Z"
   },
   {
    "duration": 10,
    "start_time": "2023-01-24T19:46:15.247Z"
   },
   {
    "duration": 4,
    "start_time": "2023-01-24T19:46:15.259Z"
   },
   {
    "duration": 7,
    "start_time": "2023-01-24T19:46:15.265Z"
   },
   {
    "duration": 7,
    "start_time": "2023-01-24T19:46:15.273Z"
   },
   {
    "duration": 17,
    "start_time": "2023-01-24T19:46:15.282Z"
   },
   {
    "duration": 109,
    "start_time": "2023-01-24T19:47:12.666Z"
   },
   {
    "duration": 13,
    "start_time": "2023-01-24T19:47:33.314Z"
   },
   {
    "duration": 5,
    "start_time": "2023-01-24T19:47:46.792Z"
   },
   {
    "duration": 5,
    "start_time": "2023-01-24T19:47:59.223Z"
   },
   {
    "duration": 5,
    "start_time": "2023-01-24T19:48:39.458Z"
   },
   {
    "duration": 71,
    "start_time": "2023-01-24T19:48:46.928Z"
   },
   {
    "duration": 5,
    "start_time": "2023-01-24T19:48:50.768Z"
   },
   {
    "duration": 1668,
    "start_time": "2023-01-24T19:50:17.015Z"
   },
   {
    "duration": 26,
    "start_time": "2023-01-24T19:50:18.685Z"
   },
   {
    "duration": 19,
    "start_time": "2023-01-24T19:50:18.714Z"
   },
   {
    "duration": 24,
    "start_time": "2023-01-24T19:50:18.735Z"
   },
   {
    "duration": 9,
    "start_time": "2023-01-24T19:50:18.760Z"
   },
   {
    "duration": 6,
    "start_time": "2023-01-24T19:50:18.770Z"
   },
   {
    "duration": 40,
    "start_time": "2023-01-24T19:50:18.777Z"
   },
   {
    "duration": 5,
    "start_time": "2023-01-24T19:50:18.820Z"
   },
   {
    "duration": 2099,
    "start_time": "2023-01-24T19:50:18.827Z"
   },
   {
    "duration": 33,
    "start_time": "2023-01-24T19:50:20.929Z"
   },
   {
    "duration": 213,
    "start_time": "2023-01-24T19:50:20.965Z"
   },
   {
    "duration": 27,
    "start_time": "2023-01-24T19:50:21.180Z"
   },
   {
    "duration": 5,
    "start_time": "2023-01-24T19:50:21.210Z"
   },
   {
    "duration": 23,
    "start_time": "2023-01-24T19:50:21.217Z"
   },
   {
    "duration": 11,
    "start_time": "2023-01-24T19:50:21.242Z"
   },
   {
    "duration": 13,
    "start_time": "2023-01-24T19:50:21.254Z"
   },
   {
    "duration": 5,
    "start_time": "2023-01-24T19:50:21.269Z"
   },
   {
    "duration": 26,
    "start_time": "2023-01-24T19:50:21.275Z"
   },
   {
    "duration": 21,
    "start_time": "2023-01-24T19:50:21.303Z"
   },
   {
    "duration": 13,
    "start_time": "2023-01-24T19:50:21.326Z"
   },
   {
    "duration": 11,
    "start_time": "2023-01-24T19:50:21.341Z"
   },
   {
    "duration": 52,
    "start_time": "2023-01-24T20:00:27.900Z"
   },
   {
    "duration": 1113,
    "start_time": "2023-01-24T20:00:33.563Z"
   },
   {
    "duration": 121,
    "start_time": "2023-01-24T20:00:34.678Z"
   },
   {
    "duration": 13,
    "start_time": "2023-01-24T20:00:34.801Z"
   },
   {
    "duration": 19,
    "start_time": "2023-01-24T20:00:34.816Z"
   },
   {
    "duration": 10,
    "start_time": "2023-01-24T20:00:34.837Z"
   },
   {
    "duration": 3,
    "start_time": "2023-01-24T20:00:34.849Z"
   },
   {
    "duration": 54,
    "start_time": "2023-01-24T20:00:34.854Z"
   },
   {
    "duration": 3,
    "start_time": "2023-01-24T20:00:34.909Z"
   },
   {
    "duration": 2023,
    "start_time": "2023-01-24T20:00:34.913Z"
   },
   {
    "duration": 35,
    "start_time": "2023-01-24T20:00:36.939Z"
   },
   {
    "duration": 198,
    "start_time": "2023-01-24T20:00:36.976Z"
   },
   {
    "duration": 9,
    "start_time": "2023-01-24T20:00:37.176Z"
   },
   {
    "duration": 3,
    "start_time": "2023-01-24T20:00:37.187Z"
   },
   {
    "duration": 21,
    "start_time": "2023-01-24T20:00:37.191Z"
   },
   {
    "duration": 8,
    "start_time": "2023-01-24T20:00:37.215Z"
   },
   {
    "duration": 7,
    "start_time": "2023-01-24T20:00:37.236Z"
   },
   {
    "duration": 5,
    "start_time": "2023-01-24T20:00:37.244Z"
   },
   {
    "duration": 6,
    "start_time": "2023-01-24T20:00:37.251Z"
   },
   {
    "duration": 7,
    "start_time": "2023-01-24T20:00:37.258Z"
   },
   {
    "duration": 7,
    "start_time": "2023-01-24T20:00:37.267Z"
   },
   {
    "duration": 32,
    "start_time": "2023-01-24T20:01:31.357Z"
   }
  ],
  "kernelspec": {
   "display_name": "Python 3 (ipykernel)",
   "language": "python",
   "name": "python3"
  },
  "language_info": {
   "codemirror_mode": {
    "name": "ipython",
    "version": 3
   },
   "file_extension": ".py",
   "mimetype": "text/x-python",
   "name": "python",
   "nbconvert_exporter": "python",
   "pygments_lexer": "ipython3",
   "version": "3.9.13"
  },
  "toc": {
   "base_numbering": 1,
   "nav_menu": {},
   "number_sections": true,
   "sideBar": true,
   "skip_h1_title": true,
   "title_cell": "Table of Contents",
   "title_sidebar": "Contents",
   "toc_cell": false,
   "toc_position": {},
   "toc_section_display": true,
   "toc_window_display": true
  }
 },
 "nbformat": 4,
 "nbformat_minor": 2
}
